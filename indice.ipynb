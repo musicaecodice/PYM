{
 "cells": [
  {
   "cell_type": "markdown",
   "id": "8e8a8b13",
   "metadata": {},
   "source": [
    "[Musicaecodice](https://musicaecodice.github.io/) "
   ]
  },
  {
   "cell_type": "markdown",
   "id": "79a21d9d",
   "metadata": {},
   "source": [
    "# Indice"
   ]
  },
  {
   "cell_type": "markdown",
   "id": "5d1294dd",
   "metadata": {},
   "source": [
    "* <a href=\"#introduzione\">Introduzione</a>\n",
    "* <a href=\"#installazione\">Installazione</a>\n",
    "* <a href=\"#procedura\">Ambienti operativi</a>\n",
    "* <a href=\"#risorse\">Risorse in rete</a>"
   ]
  },
  {
   "cell_type": "markdown",
   "id": "5a1cc119",
   "metadata": {},
   "source": [
    "* <a href=\"#variabili\">Variabili</a>\n",
    "  * <a href=\"#nomisi\">Nomi legali</a>\n",
    "  * <a href=\"#nomino\">Nomi illegali</a>\n",
    "  * <a href=\"#varsint\">Sintassi</a>\n",
    "  * <a href=\"#multipli\">Assegnare valori multipli</a>\n",
    "  * <a href=\"#multivar\">Assegnare un valore a più variabili</a>\n",
    "  * <a href=\"#utilizzovar\">Utilizzo</a>\n",
    "  * <a href=\"#riassegna\">Riassegnare</a>\n",
    "  * <a href=\"#cancella\">Cancellare</a>\n",
    "  * <a href=\"#costanti\">Costanti</a>\n",
    "* <a href=\"#datatype\">Tipi di dato</a>\n",
    "  * <a href=\"#singoli\">Dati singoli</a>\n",
    "  * <a href=\"#collezioni\">Collezioni</a>\n",
    "  * <a href=\"#casting\">Casting</a>\n",
    "* <a href=\"#librerie\">Librerie e moduli</a>"
   ]
  },
  {
   "cell_type": "markdown",
   "id": "93c2d0ff",
   "metadata": {},
   "source": [
    "* <a href=\"#numeri\">Numeri</a>\n",
    "* <a href=\"#stringhe\">Stringhe</a>\n",
    "  * <a href=\"#creastr\">Creare</a>\n",
    "  * <a href=\"#concatenastr\">Concatenare</a>\n",
    "  * <a href=\"#eliminastr\">Eliminare</a>\n",
    "  * <a href=\"#escape\">Escape character</a>\n",
    "  * <a href=\"#stringformat\">Formattare</a>   \n",
    "* <a href=\"#colpar\">Collezioni, operazioni e indici</a>\n",
    "    * <a href=\"#liste\">Liste</a>\n",
    "    * <a href=\"#tuple\">Tuple</a>\n",
    "    * <a href=\"#dict\">Dictionary</a>\n",
    "    * <a href=\"#set\">Set</a>\n",
    "    * <a href=\"#nparray\">Array (NumPy)</a>\n",
    "    * <a href=\"#math\">Operazioni matematiche</a>\n",
    "    * <a href=\"#slicing\">Indexing e slicing</a>"
   ]
  },
  {
   "cell_type": "markdown",
   "id": "ecff9693",
   "metadata": {},
   "source": [
    "* <a href=\"#boolean\">Boolean, condizioni e cicli (strutture di controllo)</a>\n",
    "    * <a href=\"#condexpr\">Espressioni condizionali</a>\n",
    "    * <a href=\"#loop\">Iterazione (ciclo for)</a>\n",
    "    * <a href=\"#while\">Iterazione (ciclo while)</a>\n",
    "    * <a href=\"#listc\">List comprehension</a> \n",
    "    * <a href=\"#genexp\">Generator expression</a> "
   ]
  },
  {
   "cell_type": "markdown",
   "id": "266465ff",
   "metadata": {},
   "source": [
    "* <a href=\"#strapro\">Modelli informatici</a> \n",
    "* <a href=\"#funzioni\">Funzioni</a>\n",
    "* <a href=\"#modularita\">Moduli custom</a>\n",
    "* <a href=\"#classi\">Programmazione orientata ad oggetti</a> \n",
    "    * <a href=\"#classi_ist\">Classi e istanze</a>\n",
    "    * <a href=\"#metodi\">Metodi</a>\n",
    "    * <a href=\"#vars\">Variabili di istanza e variabili di classe</a>\n",
    "    * <a href=\"#eredita\">Ereditarietà</a>\n",
    "    * <a href=\"#decoratori\">Decoratori</a>\n",
    "        * <a href=\"#property\">@propriety</a>\n",
    "        * <a href=\"#classmethod\">@classmethod</a>\n",
    "        * <a href=\"#staticmethod\">@staticmethod</a>\n",
    "    * <a href=\"#specialmethod\">Metodi speciali (dunder methods)</a>\n",
    "* <a href=\"#files\">Esportare/importare file di testo</a>\n",
    "* <a href=\"#virtamb\">Ambienti virtuali</a>  "
   ]
  },
  {
   "cell_type": "markdown",
   "id": "ab0a71f9",
   "metadata": {},
   "source": [
    "# Introduzione <a id='introduzione'></a> \n",
    "\n",
    "Questo Notebook vuole fornire le conoscenze di base del linguaggio di programmazione python necessarie al suo utilizzo nella programmazione di applicazioni musicali di diverso tipo e scopo come:\n",
    "\n",
    "- Composizione algoritmica (Computer Aided Composition) \n",
    "- Digital Signal Processing (DSP - sintesi, analisi ed elaborazione del suono) \n",
    "- Applicazioni di AI per la musica"
   ]
  },
  {
   "cell_type": "markdown",
   "id": "8e2be6a7",
   "metadata": {},
   "source": [
    "# Installazione <a id='installazione'></a> \n",
    "\n",
    "Scarichiamo ed installiamo:\n",
    "\n",
    "* [Python (Anaconda distribution)](https://www.anaconda.com) \n",
    "* [VScode](https://code.visualstudio.com/) (Incluso con l'Anaconda distribution)"
   ]
  },
  {
   "cell_type": "markdown",
   "id": "6eeb03d7",
   "metadata": {},
   "source": [
    "# Ambienti operativi<a id='procedura'></a>\n",
    "\n",
    "Eseguire il codice di python. \n",
    "\n",
    "Per i nostri scopi osserviamo due modalità differenti."
   ]
  },
  {
   "cell_type": "markdown",
   "id": "88942281",
   "metadata": {},
   "source": [
    "## Notebook\n",
    "\n",
    "Dalle celle di questo Notebook - pratico per presentazioni e lezioni.\n",
    "\n",
    "1. Selezioniamo la cella da eseguire e poi ctrl + enter.\n",
    "   I dati a schermo (output) sono visualizzati sotto la cella."
   ]
  },
  {
   "cell_type": "code",
   "execution_count": null,
   "id": "6a2e4e49",
   "metadata": {},
   "outputs": [],
   "source": [
    "out = \"La bella gigogin\" # Codice\n",
    "print(out)               # Scrive il codice in ouput "
   ]
  },
  {
   "cell_type": "markdown",
   "id": "718aea42",
   "metadata": {},
   "source": [
    "\n",
    "Commentare e decommentare: cmd + shift + /    (I commenti sono preceduti da #).\n",
    "\n",
    "Eseguire python: freccina in alto a sx.\n",
    "\n",
    "Help di un oggetto: help(nome_oggetto).\n",
    "\n",
    "Uscire da una cartella di lavoro: tasto destro - Rimuovi cartella dall'area di lavoro."
   ]
  },
  {
   "cell_type": "markdown",
   "id": "fd610ee2",
   "metadata": {},
   "source": [
    "## Editor esterno (VSCode)\n",
    "\n",
    "Facilita l'organizzazione in cartelle - modalità da utilizzare per la creazione di programmi.\n",
    "\n",
    "1. Lanciamo VSCode.\n",
    "2. Installiamo l'estensione per python cercandola tra quelle disponibili nel marketplace.   \n",
    "3. Apriamo in VSCode un nuovo file di python.\n",
    "4. Scriviamo** del codice. \n",
    "5. Salviamolo in una nuova cartella dedicata.\n",
    "6. Clicchiamo su esplora risorse (l'icona con le due pagine in alto a sinistra).\n",
    "7. Selezioniamo la cartella (Apri cartella) che contiene il file. \n",
    "8. Selezioniamo il file su cui vogliamo lavorare.\n",
    "9. Apriamo un Nuovo terminale (Menù Terminale).\n",
    "10. Eseguiamo il codice python cliccando sulla freccia in alto a destra. \n",
    "\n",
    "Se tutto è andato a buon fine l'output del nostro programma viene visualizzato nel terminale."
   ]
  },
  {
   "cell_type": "markdown",
   "id": "b525ab23",
   "metadata": {},
   "source": [
    "## Terminale\n",
    "\n",
    "Per testare velocemente codice di python utilizzando la modalità interattiva (da riga di comando).\n",
    "\n",
    "- Apriamo un Terminale (Shell) qualsiasi (va bene anche quello di VSCode \n",
    "- Scriviamo: python + enter.\n",
    "- Compare il prompt dei comandi (>>>).\n",
    "\n",
    "Ora possiamo scrivere codice python ed eseguirlo con enter.\n",
    "\n",
    "Uscire dalla modalità interattiva: \n",
    "- exit() oppure quit() + enter\n",
    "\n",
    "Per pulire il Terminale: cmd + k.\n",
    "\n",
    "Per uscire dal Terminale: q + enter.\n",
    "\n",
    "Eseguire comandi da Terminale in una cella del Notebook: scriviamo ! all'inizio della prima linea."
   ]
  },
  {
   "cell_type": "markdown",
   "id": "9922f73e",
   "metadata": {},
   "source": [
    "# Risorse in rete <a id='risorse'></a>\n",
    "\n",
    "* <a href=\"https://www.python.it/\">Sito della comunità italiana di Python</a>.\n",
    "* <a href=\"https://www.python.org/\">Sito di Python</a>.\n",
    "* <a href=\"https://www.python.it/doc/Howtothink/HowToThink_ITA.pdf\">Think Python (in italiano)</a>.\n",
    "* <a href=\"https://it.softpython.org/\">SoftPython (in italiano)</a>.\n",
    "* <a href=\"https://www.youtube.com/watch?v=EmjGqeczf44&list=PLP5MAKLy8lP8FAytdm2ncZbPioA9A2SgF&index=2\">Python su YouTube (in italiano)</a>.\n",
    "* <a href=\"https://www.py4e.com/lessons\">Py4e</a>.\n",
    "* [Best pratics](https://www.audiolabs-erlangen.de/resources/MIR/FMP/B/B_PythonStyleGuide.html)."
   ]
  },
  {
   "cell_type": "markdown",
   "id": "4ea4fe8f",
   "metadata": {},
   "source": [
    "# Variabili <a id='variabili'></a> \n",
    "\n",
    "Contenitori contrassegnati da un nome che possiamo riempire con degli oggetti.\n",
    "\n",
    "Per recuperare un oggetto specifico da un contenitore scriviamo il nome che lo contrassegna.\n",
    "\n",
    "In informatica: \n",
    "\n",
    "- contenitori $\\rightarrow$ allocazioni di memoria, \n",
    "- nomi $\\rightarrow$ etichette (key) \n",
    "- contenuto $\\rightarrow$ tipi di data (data type)."
   ]
  },
  {
   "cell_type": "code",
   "execution_count": null,
   "id": "d7d71b05",
   "metadata": {},
   "outputs": [],
   "source": [
    "ciao = 12    # etichetta = contenuto\n",
    "print(ciao)  # print() comando che genera l'output"
   ]
  },
  {
   "cell_type": "markdown",
   "id": "efa3870d",
   "metadata": {},
   "source": [
    "In python (a differenza di altri linguaggi di programmazione):\n",
    "\n",
    "* Non possiamo dichiarare variabili vuote per poi assegnare data successivamete.\n",
    "* Non dobbiamo dichiarare il tipo di data assegnato.\n",
    "\n",
    "Le varibili sono utili nella formalizzazione del pensiero computazionale.\n",
    "\n",
    "Ci permettono di richiamare più volte all'interno del codice insiemi di dati o blocchi di codice senza doverli riscrivere ogni volta.\n",
    "\n",
    "Esempio musicale.\n",
    "\n",
    "Una sequenza melodica o le note di un accordo possono essere codificate come midinote.\n",
    "\n",
    "Se assegnamo i valori numerici a un'etichetta."
   ]
  },
  {
   "cell_type": "code",
   "execution_count": null,
   "id": "04be0530",
   "metadata": {},
   "outputs": [],
   "source": [
    "DoM = (60, 64, 67, 72)"
   ]
  },
  {
   "cell_type": "markdown",
   "id": "6e5968c0",
   "metadata": {},
   "source": [
    "Possiamo richiamarli a nostro piacimento scrivendone solo l'etichetta."
   ]
  },
  {
   "cell_type": "code",
   "execution_count": null,
   "id": "d2b93ad2",
   "metadata": {},
   "outputs": [],
   "source": [
    "print(DoM)\n",
    "print(DoM)\n",
    "print(DoM)"
   ]
  },
  {
   "cell_type": "markdown",
   "id": "16052414",
   "metadata": {},
   "source": [
    "Alcune regole proprie di Python."
   ]
  },
  {
   "cell_type": "markdown",
   "id": "a0933ddc",
   "metadata": {},
   "source": [
    "## Nomi legali <a id='nomisi'></a> (utilizzabili)"
   ]
  },
  {
   "cell_type": "code",
   "execution_count": null,
   "id": "affdb945",
   "metadata": {},
   "outputs": [],
   "source": [
    "ciaociao   = 1 # tutto minuscolo\n",
    "ciao_ciao  = 1 # underscore\n",
    "_ciao_ciao = 1 # undescore inizio\n",
    "ciaoCiao   = 1 # con maiuscole (case sensitive)    Camel Case\n",
    "CIAOCIAO   = 1 # tutto maiuscolo\n",
    "ciaociao23 = 1 # numeri alla fine o in mezzo "
   ]
  },
  {
   "cell_type": "markdown",
   "id": "44fbbec6",
   "metadata": {},
   "source": [
    "## Nomi illegali <a id='nomino'></a>  (vietati)"
   ]
  },
  {
   "cell_type": "code",
   "execution_count": null,
   "id": "a86f6363",
   "metadata": {},
   "outputs": [],
   "source": [
    "2ciaociao = 1  # NO numero all'inizio\n",
    "ciao-ciao = 1  # NO trattini\n",
    "ciao ciao = 1  # NO spazi"
   ]
  },
  {
   "cell_type": "markdown",
   "id": "ba5fd07c",
   "metadata": {},
   "source": [
    "## Sintassi <a id='varsint'></a> diverse"
   ]
  },
  {
   "cell_type": "code",
   "execution_count": null,
   "id": "c7a89c10",
   "metadata": {},
   "outputs": [],
   "source": [
    "ciaoCiao  = 2 # Camel case\n",
    "CiaoCiao  = 2 # Pascal case\n",
    "ciao_ciao = 2 # Snake case (suggerito come best pratice di Python)"
   ]
  },
  {
   "cell_type": "markdown",
   "id": "c7922dcb",
   "metadata": {},
   "source": [
    "## Assegnare valori multipli <a id='multipli'></a> "
   ]
  },
  {
   "cell_type": "code",
   "execution_count": null,
   "id": "f8d0f553",
   "metadata": {},
   "outputs": [],
   "source": [
    "c, d, e = 60, \"ciao\", 62     # no punto e virgola a fine riga...\n",
    "\n",
    "print(c)\n",
    "print(d)\n",
    "print(e)"
   ]
  },
  {
   "cell_type": "markdown",
   "id": "46e1742a",
   "metadata": {},
   "source": [
    "Attenzione a non confondere l'assegnazione precedente con collezioni di dati."
   ]
  },
  {
   "cell_type": "markdown",
   "id": "4a48d71f",
   "metadata": {},
   "source": [
    "## Assegnare un valore a più variabili <a id='multivar'></a>\n",
    "\n",
    "Il codice seguente potrebbe rappresentare musicalmente la dichiarazione di una condizione enarmonica."
   ]
  },
  {
   "cell_type": "code",
   "execution_count": null,
   "id": "c5b74712",
   "metadata": {},
   "outputs": [],
   "source": [
    "c = bs = dff = 60  # do, si diesis, re doppio bemolle...\n",
    "\n",
    "print(c)\n",
    "print(bs)\n",
    "print(dff)"
   ]
  },
  {
   "cell_type": "markdown",
   "id": "aa5b4228",
   "metadata": {},
   "source": [
    "## Utilizzo <a id='utilizzovar'></a> \n",
    "\n",
    "Il codice seguente potrebbe rappresentare un algoritmo di trasposizione ma in realtà è una semplice somma tra due interi."
   ]
  },
  {
   "cell_type": "code",
   "execution_count": null,
   "id": "7891ef6e",
   "metadata": {},
   "outputs": [],
   "source": [
    "c     = 60      # valore MIDI\n",
    "trasp = 12      # trasposizione in semitoni\n",
    "\n",
    "out = c + trasp # algoritmo\n",
    "print(out)      # risultato"
   ]
  },
  {
   "cell_type": "markdown",
   "id": "4dc33df0",
   "metadata": {},
   "source": [
    "## Riassegnare <a id='riassegna'></a> \n",
    "\n",
    "Il codice viene eseguito dall'alto verso il basso e da sinistra verso destra. \n",
    "\n",
    "Nel corso dell'esecuzione possiamo riassegnare le variabili. \n",
    "\n",
    "Cambiare il contenuto dei contenitori mantenendo le etichette invariate."
   ]
  },
  {
   "cell_type": "code",
   "execution_count": null,
   "id": "1c9e3423",
   "metadata": {},
   "outputs": [],
   "source": [
    "c = 60      \n",
    "print(c)\n",
    "c = c + 12  # un ottava sopra...\n",
    "print(c)\n",
    "c = c - 24  # due ottave sotto rispetto l'ultimo valore..\n",
    "print(c)\n",
    "c = c + 12  # un ottava sopra rispetto l'ultimo valore..\n",
    "print(c)"
   ]
  },
  {
   "cell_type": "markdown",
   "id": "7a870840",
   "metadata": {},
   "source": [
    "Quando assegnamo qualcosa ad una variabilie tutto ciò che è scritto a destra del simbolo uguale viene eseguito prima di quanto è scritto a sinistra (etichetta).\n",
    "\n",
    "Eccezione alla regola illustrata ad inizio paragrafo. "
   ]
  },
  {
   "cell_type": "markdown",
   "id": "f3e35c52",
   "metadata": {},
   "source": [
    "## Cancellare <a id='cancella'></a> "
   ]
  },
  {
   "cell_type": "code",
   "execution_count": null,
   "id": "afd5e754",
   "metadata": {},
   "outputs": [],
   "source": [
    "c = 60\n",
    "print(c)\n",
    "\n",
    "del c     # del = delete\n",
    "print(c)  # Dà errore..."
   ]
  },
  {
   "cell_type": "markdown",
   "id": "f3214dee",
   "metadata": {},
   "source": [
    "## Costanti <a id='costanti'></a> \n",
    "\n",
    "Possiamo utilizzare le variabili anche come magazzino di dati da richiamare al bisogno senza variarli nel corso dell'esecuzione del codice. \n",
    "\n",
    "Per convenzione le etichette sono scritte in maiuscolo."
   ]
  },
  {
   "cell_type": "code",
   "execution_count": null,
   "id": "79fc981f",
   "metadata": {},
   "outputs": [],
   "source": [
    "SEMITONI_PER_OTTAVA = 12\n",
    "\n",
    "print(SEMITONI_PER_OTTAVA)"
   ]
  },
  {
   "cell_type": "markdown",
   "id": "3351b982",
   "metadata": {},
   "source": [
    "## Esercizi musicali 1"
   ]
  },
  {
   "cell_type": "code",
   "execution_count": null,
   "id": "2de383bd",
   "metadata": {},
   "outputs": [],
   "source": [
    "# Da realizzare in aula"
   ]
  },
  {
   "cell_type": "markdown",
   "id": "38f2b91d",
   "metadata": {},
   "source": [
    "# Tipi di dato <a id='datatype'></a> \n",
    "\n",
    "L'insieme di valori che una variabile o il risultato di un'espressione possono assumere.\n",
    "\n",
    "Il tipo di dato determina:\n",
    "\n",
    "* il valore.\n",
    "* il tipo di operazione che possiamo effettuare su di esso.\n",
    "* l'ammontare di memoria da assegnare alla variabile.\n",
    "\n",
    "Per ottenere informazioni sul tipo di data di un oggetto:"
   ]
  },
  {
   "cell_type": "code",
   "execution_count": null,
   "id": "80781488",
   "metadata": {},
   "outputs": [],
   "source": [
    "x = 12.45\n",
    "\n",
    "type(x)    # riporta il tipo di data"
   ]
  },
  {
   "cell_type": "markdown",
   "id": "79e5d091",
   "metadata": {},
   "source": [
    "Due tipologie  di dati:\n",
    "\n",
    "- Dati singoli\n",
    "- Collezioni"
   ]
  },
  {
   "cell_type": "markdown",
   "id": "0a1d3414",
   "metadata": {},
   "source": [
    "## Dati singoli <a id='singoli'></a> "
   ]
  },
  {
   "cell_type": "code",
   "execution_count": null,
   "id": "30775154",
   "metadata": {},
   "outputs": [],
   "source": [
    "# --------------------- int\n",
    "x = 5               \n",
    "print(type(x), x)\n",
    "\n",
    "# --------------------- float\n",
    "x = 5.12            \n",
    "print(type(x), x)\n",
    "\n",
    "# --------------------- bool\n",
    "x = True            # Lettera Maiuscola\n",
    "print(type(x), x)\n",
    "\n",
    "# --------------------- numeri complessi\n",
    "\n",
    "x = 4 + 5j          # parte reale + parte immaginaria          \n",
    "print(type(x), x)\n",
    "\n",
    "# --------------------- stringhe\n",
    "x = 'ciao'         \n",
    "print(type(x), x)"
   ]
  },
  {
   "cell_type": "markdown",
   "id": "ff25d4e7",
   "metadata": {},
   "source": [
    "## Collezioni <a id='collezioni'></a> "
   ]
  },
  {
   "cell_type": "code",
   "execution_count": null,
   "id": "a62aedfd",
   "metadata": {},
   "outputs": [],
   "source": [
    "import numpy as np  # Importa la libreria numpy (info più avanti...)\n",
    "\n",
    "# --------------------- liste (non Array...)\n",
    "\n",
    "x = [\"ciao\", 12, 34.5, 'miao'] \n",
    "print(type(x), x)\n",
    "\n",
    "# --------------------- tuple\n",
    "\n",
    "x = (\"ciao\", 12,34.5, 'miao')\n",
    "print(type(x), x)\n",
    "\n",
    "# --------------------- range\n",
    "\n",
    "x = range(6)                 \n",
    "print(type(x), x)\n",
    "\n",
    "# --------------------- dict\n",
    "\n",
    "x = {\"nome\":\"Andrea\", \"eta\":54}  # key:value\n",
    "print(type(x), x)\n",
    "\n",
    "# --------------------- set\n",
    "\n",
    "x = {\"nome\", \"Andrea\", \"eta\", \"peso\"} \n",
    "print(type(x), x)\n",
    "\n",
    "# --------------------- numpy array (array numerici)\n",
    "\n",
    "x = np.array([60,6,62,83])\n",
    "print(type(x), x)"
   ]
  },
  {
   "cell_type": "markdown",
   "id": "b25fbda2",
   "metadata": {},
   "source": [
    "## Casting <a id='casting'></a> \n",
    "\n",
    "Procedura di conversione dei tipi di data.\n",
    "\n",
    "A seconda del tipo di data implicato il risultato (output) di una stessa operazione può restituire risultati differenti."
   ]
  },
  {
   "cell_type": "code",
   "execution_count": null,
   "id": "dd2e9a27",
   "metadata": {},
   "outputs": [],
   "source": [
    "x = \"32 \" # stringa\n",
    "y = 400   # integer\n",
    "z = 3.2   # float\n",
    "\n",
    "print(y + z)      # Stesso tipo (number)\n",
    "print(int(x) + y) # Calcola somma\n",
    "print(x + str(y)) # Concatena stringa\n",
    "print(float(y))   # int --> float\n",
    "print(int(z))     # float --> int (tronca i decimali)"
   ]
  },
  {
   "cell_type": "markdown",
   "id": "888a0e08",
   "metadata": {},
   "source": [
    "# Librerie e moduli<a id='librerie'></a> \n",
    "\n",
    "Aggiungono funzionalità a python. \n",
    "\n",
    "Sono collezioni di moduli, ovvero files esterni contenenti funzioni dedicate a compiere specifiche operazioni.\n",
    "\n",
    "Con la distribuzione ufficiale viene fornita una vastissima libreria chiamata [Standard Library](https://docs.python.org/3/library/) ma ce ne sono di ogni tipo e per ogni esigenza.\n",
    "\n",
    "Alcune librerie non incluse nella Standard Library sono incluse in altre distribuzioni di python come Anaconda."
   ]
  },
  {
   "cell_type": "markdown",
   "id": "e83f0b6f",
   "metadata": {},
   "source": [
    "## Pip install\n",
    "\n",
    "Le librerie devono essere installate sul nostro computer dal Terminale (Shell) attraverso il modulo [pip](https://pypi.org/) che è un package manager.\n",
    "\n",
    "Per verificare se è già installato apriamo un Terminale e scriviamo:"
   ]
  },
  {
   "cell_type": "code",
   "execution_count": null,
   "id": "be7a8292",
   "metadata": {},
   "outputs": [],
   "source": [
    "pip --version"
   ]
  },
  {
   "cell_type": "markdown",
   "id": "d2e932e8",
   "metadata": {},
   "source": [
    "Se non è installato scriviamo ed eseguiamo nel Terminale."
   ]
  },
  {
   "cell_type": "code",
   "execution_count": null,
   "id": "7cf00be8",
   "metadata": {},
   "outputs": [],
   "source": [
    "python get-pip.py"
   ]
  },
  {
   "cell_type": "markdown",
   "id": "6b03f73d",
   "metadata": {},
   "source": [
    "A questo punto possiamo installare le librerie che vogliamo direttamente dal Terminale:"
   ]
  },
  {
   "cell_type": "code",
   "execution_count": null,
   "id": "da1ec65d",
   "metadata": {},
   "outputs": [],
   "source": [
    "pip install camelcase"
   ]
  },
  {
   "cell_type": "markdown",
   "id": "51117277",
   "metadata": {},
   "source": [
    "Oppure **disintallarle**:"
   ]
  },
  {
   "cell_type": "code",
   "execution_count": null,
   "id": "bcbfd2f5",
   "metadata": {},
   "outputs": [],
   "source": [
    "pip uninstall camelcase"
   ]
  },
  {
   "cell_type": "markdown",
   "id": "89f7f6b4",
   "metadata": {},
   "source": [
    "Se vogliamo conoscere **quali librerie** sono **installate** sul computer:"
   ]
  },
  {
   "cell_type": "code",
   "execution_count": null,
   "id": "f6fc98e9",
   "metadata": {},
   "outputs": [],
   "source": [
    "pip list "
   ]
  },
  {
   "cell_type": "markdown",
   "id": "65fb5fc6",
   "metadata": {},
   "source": [
    "Facciamo attenzione che sullo stesso computer possono essere presenti diverse versioni di python.\n",
    "\n",
    "Ognuna di queste può avere installate delle librerie non presenti nelle altre (ogni versione è un ambiente indipendente)."
   ]
  },
  {
   "cell_type": "markdown",
   "id": "e0df9dc1",
   "metadata": {},
   "source": [
    "## Importare moduli\n",
    "\n",
    "Per utilizzare i moduli di una libreria in un file dobbiamo:\n",
    "\n",
    "1. importarli all'inizio dello script di python.\n",
    "2. richamare le funzioni desiderate attraverso la sintassi illustrata."
   ]
  },
  {
   "cell_type": "code",
   "execution_count": null,
   "id": "526fb328",
   "metadata": {},
   "outputs": [],
   "source": [
    "import math           # Importa il modulo math della Standard library\n",
    "\n",
    "x = math.floor(2.45)  # modulo.funzione(argomento)\n",
    "print(x)"
   ]
  },
  {
   "cell_type": "markdown",
   "id": "599fb5d4",
   "metadata": {},
   "source": [
    "Per visualizzare tutte le funzioni presenti in un modulo: "
   ]
  },
  {
   "cell_type": "code",
   "execution_count": null,
   "id": "f912a370",
   "metadata": {},
   "outputs": [],
   "source": [
    "import math \n",
    "\n",
    "x = dir(math)\n",
    "print(x)"
   ]
  },
  {
   "cell_type": "markdown",
   "id": "417124b5",
   "metadata": {},
   "source": [
    "Alcuni moduli hanno nomi articolati. \n",
    "\n",
    "In questi casi possiamo creare un alias:"
   ]
  },
  {
   "cell_type": "code",
   "execution_count": null,
   "id": "531a86f8",
   "metadata": {},
   "outputs": [],
   "source": [
    "import numpy as np\n",
    "\n",
    "x = np.arange(12,15) # nome_alias.funzione()\n",
    "print(x)"
   ]
  },
  {
   "cell_type": "markdown",
   "id": "19395cf0",
   "metadata": {},
   "source": [
    "Importare singole funzioni di un modulo. \n",
    "\n",
    "Dobbiamo specificare il nome del modulo."
   ]
  },
  {
   "cell_type": "code",
   "execution_count": null,
   "id": "3dfcb54a",
   "metadata": {},
   "outputs": [],
   "source": [
    "from random import randint\n",
    "\n",
    "x = randint(10,15)\n",
    "print(x)"
   ]
  },
  {
   "cell_type": "markdown",
   "id": "40776645",
   "metadata": {},
   "source": [
    "Importare tutte le funzioni di un modulo:"
   ]
  },
  {
   "cell_type": "code",
   "execution_count": null,
   "id": "1f95a92d",
   "metadata": {},
   "outputs": [],
   "source": [
    "from random import *\n",
    "\n",
    "randint(10,18)\n",
    "print(x)"
   ]
  },
  {
   "cell_type": "markdown",
   "id": "b8ecade8",
   "metadata": {},
   "source": [
    "Non sempre consigliato perchè importa anche funzioni che non utilizzeremo mai."
   ]
  },
  {
   "cell_type": "markdown",
   "id": "8ba75e96",
   "metadata": {},
   "source": [
    "# Numeri <a id='numeri'></a> \n",
    "\n",
    "Quattro tipi di numeri:\n",
    "\n",
    "* int - interi.\n",
    "* float - decimali.\n",
    "* boolean - booleiani.\n",
    "* complex - complessi.\n",
    "\n",
    "Su di essi possiamo effettuare tutte le principali operazioni matematiche. \n",
    "\n",
    "Per operazioni più complesse o non deterministiche dobbiamo utilizzare una o più librerie."
   ]
  },
  {
   "cell_type": "code",
   "execution_count": null,
   "id": "a84ce8dd",
   "metadata": {},
   "outputs": [],
   "source": [
    "somma = 12 + 23.4  # Casting automatico a float\n",
    "print(somma)\n",
    "\n",
    "bool = 12 == 12\n",
    "print(bool)\n",
    "\n",
    "img = 4 + 5j * 6 + 4j\n",
    "print(img)"
   ]
  },
  {
   "cell_type": "markdown",
   "id": "28c49441",
   "metadata": {},
   "source": [
    "# Stringhe <a id='stringhe'></a> \n",
    "\n",
    "Sequenze ordinate di characters (singole lettere o char). \n",
    "\n",
    "Tipo di data molto versatile in Python. "
   ]
  },
  {
   "cell_type": "markdown",
   "id": "445eacc1",
   "metadata": {},
   "source": [
    "## Creare<a id='creastr'></a> \n",
    "\n",
    "\n",
    "Possiamo crearle in tre modi:\n",
    "\n",
    "1. Su una linea - singolo o doppio apice."
   ]
  },
  {
   "cell_type": "code",
   "execution_count": null,
   "id": "e327d284",
   "metadata": {},
   "outputs": [],
   "source": [
    "#    0123\n",
    "x = \"ciao\" # doppio apice\n",
    "y = 'miao' # singolo apice (da preferire)\n",
    "\n",
    "print(x, y)\n",
    "print(y)"
   ]
  },
  {
   "cell_type": "markdown",
   "id": "4b9d1ee3",
   "metadata": {},
   "source": [
    "2. Su più linee - tre singoli o doppi apici."
   ]
  },
  {
   "cell_type": "code",
   "execution_count": null,
   "id": "3e269504",
   "metadata": {},
   "outputs": [],
   "source": [
    "x = \"\"\"ciao \n",
    "amici\n",
    "miei\"\"\"\n",
    "\n",
    "print(x)"
   ]
  },
  {
   "cell_type": "markdown",
   "id": "e4ea6194",
   "metadata": {},
   "source": [
    "3. Con la funzione str(' ')"
   ]
  },
  {
   "cell_type": "code",
   "execution_count": null,
   "id": "449c1286",
   "metadata": {},
   "outputs": [],
   "source": [
    "x = str(\"ciao sono Andrea\")\n",
    "\n",
    "print(x)"
   ]
  },
  {
   "cell_type": "markdown",
   "id": "85ddd3fc",
   "metadata": {},
   "source": [
    "## Concatenare<a id='concatenastr'></a> "
   ]
  },
  {
   "cell_type": "code",
   "execution_count": null,
   "id": "6743ab4d",
   "metadata": {},
   "outputs": [],
   "source": [
    "seqa = \"c d e f \"                # anche gli spazi sono character...\n",
    "seqb = 'g a b' \n",
    "\n",
    "seqc = '{ ' + seqa + seqb + ' }'  # concatenazione\n",
    "\n",
    "print(seqc) "
   ]
  },
  {
   "cell_type": "markdown",
   "id": "9e2032d8",
   "metadata": {},
   "source": [
    "## Eliminare<a id='eliminastr'></a> "
   ]
  },
  {
   "cell_type": "code",
   "execution_count": null,
   "id": "6e06a5b2",
   "metadata": {},
   "outputs": [],
   "source": [
    "seqa = \"c d e f \"              \n",
    "print(seqa)\n",
    "\n",
    "del seqa    # elimina\n",
    "print(seqa) # errore..."
   ]
  },
  {
   "cell_type": "markdown",
   "id": "988781b1",
   "metadata": {},
   "source": [
    "## Escape character <a id='escape'></a> \n",
    "\n",
    "Per compiere determinate operazioni all'interno di una stringa oppure inserire caratteri particolari come virgolette e apici dobbiamo farli precedere da un backslash.\n",
    "\n",
    "Questa sintassi è necessaria per differenziare particolari tipi di carattere che identificano una funzione sintattica all'interno del linguaggio di programmazione.\n",
    "\n",
    "Alcuni escape characters utili nella formattazione delle stringhe:\n",
    "\n",
    "* \\' - apice. Definisce un apice come semplice carattere.\n",
    "* \\\" - doppie virgolette. Definisce le doppie virgolette come semplice carattere.\n",
    "* \\\\ - doppio backslash**. Definisce il backslash come semplice carattere.\n",
    "* \\n - newline. Va a capo in una nuova linea.\n",
    "* \\r - carriage return. Va a capo.\n",
    "* \\t - tab. Aggiunge una tabulazione (4 spazi).\n",
    "* \\b - backspace.\n",
    "\n",
    "Una sintassi simile riguarda le parentesi graffe. \n",
    "\n",
    "Per definirle come semplice carattere all'interno di una stringa le dobbiamo **raddoppiare** - {{ }}.\n",
    "\n",
    "Come esempio confrontiamo un file scritto nella sintassi di lilypond con la sua traduzione in stringa python."
   ]
  },
  {
   "cell_type": "code",
   "execution_count": null,
   "id": "b90a97b5",
   "metadata": {},
   "outputs": [],
   "source": [
    "# Sintassi lilypond (NON eseguire)\n",
    "\n",
    "\\version \"2.24.1\"\n",
    "\\language \"english\"\n",
    "\n",
    "\\header { \n",
    "         title = \"Bella musica\"                \n",
    "         composer = \"L'ho scritta io\" \n",
    "         }\n",
    "\n",
    "{ c'' a' b' c'' }"
   ]
  },
  {
   "cell_type": "code",
   "execution_count": null,
   "id": "bf68a6c8",
   "metadata": {},
   "outputs": [],
   "source": [
    "# Sintassi python\n",
    "\n",
    "versione = '\\\\version \\\"2.24.0\\\"\\n'       # assegna stringhe a variabili\n",
    "lingua   = '\\\\language \\\"english\\\"\\n\\n' \n",
    "\n",
    "titolo   = '''\\\\header { \n",
    "         title = \\\"Bella musica\\\"                \n",
    "         composer = \\\"L'ho scritta io\\\" \n",
    "         }\\n\\n'''      \n",
    "\n",
    "expr = \"{ c\\'\\' a\\' b\\' c\\'\\' }\"\n",
    "\n",
    "out = versione + lingua + titolo + expr   # concatena più stringhe\n",
    "print(out)                                # stampa il risultato"
   ]
  },
  {
   "cell_type": "markdown",
   "id": "00575f70",
   "metadata": {},
   "source": [
    "## Formattare <a id='stringformat'></a> \n",
    "\n",
    "Per inserire all'interno di una stringa altri tipi di dato in precise posizioni.\n",
    "\n",
    "Cinque modalità: \n",
    "\n",
    "1. Parametri ordinati"
   ]
  },
  {
   "cell_type": "code",
   "execution_count": null,
   "id": "6baaed05",
   "metadata": {},
   "outputs": [],
   "source": [
    "# --------------------- Variabili che andramo a generare o elaborare algoritmicamente\n",
    "\n",
    "m1 =  'c e d c'  \n",
    "m2 =  'f g d e' \n",
    "\n",
    "# --------------------- Costanti che costruiscono la partitura\n",
    "\n",
    "SCORE  = '''La mia bella melodia: {} | {} | '''\n",
    "\n",
    "# --------------------- Concatenazione per l'output\n",
    "\n",
    "out =  SCORE.format(m1, m2) # .format(ordine_inserimento) \n",
    "print(out)               "
   ]
  },
  {
   "cell_type": "markdown",
   "id": "384360ac",
   "metadata": {},
   "source": [
    "2. Parametri indicizzati "
   ]
  },
  {
   "cell_type": "code",
   "execution_count": null,
   "id": "df70a90c",
   "metadata": {},
   "outputs": [],
   "source": [
    "# Sintassi python\n",
    "\n",
    "# --------------------- Variabili che andremo a generare o elaborare algoritmicamente\n",
    "\n",
    "I  = 'c e g c'  \n",
    "IV = 'f a c f'  \n",
    "V  = 'g b d g'\n",
    "\n",
    "# --------------------- Costanti che costruiscono la partitura\n",
    "\n",
    "SCORE  = '''La mia progressione: {0} \n",
    "                     {1} \n",
    "                     {2}  \n",
    "                     {0} '''\n",
    "\n",
    "# --------------------- Concatenazione per l'output\n",
    "#                  0  1   2\n",
    "out = SCORE.format(I, IV, V) \n",
    "print(out)               "
   ]
  },
  {
   "cell_type": "markdown",
   "id": "98e9c446",
   "metadata": {},
   "source": [
    "3. Indici nominali "
   ]
  },
  {
   "cell_type": "code",
   "execution_count": null,
   "id": "589fc333",
   "metadata": {},
   "outputs": [],
   "source": [
    "seqA = 'a b c d'\n",
    "seqB = 'c f g d'\n",
    "seqC = 'b g d e'\n",
    "\n",
    "SCORE  = '''{ciccio} | {ciaccio} | {ciuccio} | {ciaccio} | {ciccio} |'''\n",
    "\n",
    "# --------------------- Concatenazione per l'output\n",
    "\n",
    "out = SCORE.format(ciccio=seqA, # modifichiamo i parametri da qua\n",
    "                   ciaccio=seqB,\n",
    "                   ciuccio=seqC) \n",
    "print(out)    "
   ]
  },
  {
   "cell_type": "markdown",
   "id": "4b267f4b",
   "metadata": {},
   "source": [
    "4. Operatore di formato \n",
    "\n",
    "   Se utilizziamo il simbolo % all'interno di una stringa viene interpretato come operatore di formato.\n",
    "   \n",
    "   * %d = decimale\n",
    "   * %q = floating-point\n",
    "   * %s = stringa\n",
    "   \n",
    "   La sintassi è quella illustrata nell'esempio.\n",
    "   \n",
    "   Non si usa _.format()_"
   ]
  },
  {
   "cell_type": "code",
   "execution_count": null,
   "id": "cdb9a717",
   "metadata": {},
   "outputs": [],
   "source": [
    "var   = ('Violino', 'Andante', 'quarto', 100, '2/4', 'Mi maggiore') # Tuple\n",
    "\n",
    "SCORE = \"Brano per %s, %s, %s = %d, Tempo: %s, Tonalità: %s\" % var\n",
    "# include i parametri specificati nella tuple nello stesso ordine\n",
    "\n",
    "out = SCORE\n",
    "\n",
    "print(out)     # non si usa .format()"
   ]
  },
  {
   "cell_type": "markdown",
   "id": "d9a73e26",
   "metadata": {},
   "source": [
    "5. Nomi delle varibili (il più pratico)"
   ]
  },
  {
   "cell_type": "code",
   "execution_count": null,
   "id": "5b26893f",
   "metadata": {},
   "outputs": [],
   "source": [
    "Cla = [60, 64, 67]\n",
    "Clb = [67, 68, 69]\n",
    "Clc = [45, 56, 67]\n",
    "\n",
    "out = f'''Cluster_a: {Cla}\n",
    "Cluster_b: {Clb}\n",
    "Cluster_c: {Clc}    \n",
    "'''\n",
    "\n",
    "print(out)"
   ]
  },
  {
   "cell_type": "markdown",
   "id": "15acee8e",
   "metadata": {},
   "source": [
    "## Esercizi musicali 2"
   ]
  },
  {
   "cell_type": "code",
   "execution_count": null,
   "id": "fc01fbff",
   "metadata": {},
   "outputs": [],
   "source": [
    "# Da realizzare in aula"
   ]
  },
  {
   "cell_type": "markdown",
   "id": "a6d09d11",
   "metadata": {},
   "source": [
    "# Collezioni<a id='colpar'></a> \n",
    "\n",
    "Insieme di dati inclusi tra un qualche tipo di partentesi.  \n",
    "\n",
    "Fanno capo ad un'unica variabile. \n",
    "\n",
    "Possono essere richiamati uno alla volta.\n",
    "\n",
    "Una collezione può essere:\n",
    "\n",
    "* Ordinata $\\rightarrow$ gli elementi sono in un ordine ben definito. \n",
    "  L'aggiunta o la rimozione di elementi non modifica l'ordine (possono cambiare gli indici ma rimane ordinata).\n",
    "  \n",
    "* Indicizzata $\\rightarrow$ ad ogni elemento corrisponde un indice che comincia da 0: \n",
    "  <pre>indici      0    1   2   3\n",
    "  elementi  ('a', 'b', 12, 34.34)</pre>\n",
    "  Possiamo richiamare i singoli elementi attraverso gli indici.\n",
    "\n",
    "* Immutabile $\\rightarrow$ non possiamo aggiungere o rimuovere elementi dopo aver creato la collezione. \n",
    "\n",
    "* Modificabile $\\rightarrow$ possiamo aggiungere o rimuovere elementi dopo aver creato la collezione. \n",
    "\n",
    "* Permettere duplicati $\\rightarrow$ può contenere elementi con lo stesso valore. \n",
    "\n",
    "* Non permettere duplicati $\\rightarrow$ non può contenere elementi con lo stesso valore. "
   ]
  },
  {
   "cell_type": "markdown",
   "id": "41c3793f",
   "metadata": {},
   "source": [
    "## Tuple<a id='tuple'></a> \n",
    "\n",
    "Tra parentesi tonde.\n",
    "\n",
    "* Ordinate \n",
    "* Indicizzate\n",
    "* Non modificabili \n",
    "* Permettono duplicati"
   ]
  },
  {
   "cell_type": "code",
   "execution_count": null,
   "id": "6a4ae065",
   "metadata": {},
   "outputs": [],
   "source": [
    "#         0   1   2   3   4\n",
    "seq_a = ('c','d','e','f','d')\n",
    "print(seq_a)\n",
    "\n",
    "seq_b = (60, 62, 63, 64, 62)\n",
    "print(seq_b)\n",
    "print(seq_b[0]) # Richiama un elemento\n",
    "\n",
    "seq_a[2] = 'a'  # Modifica un elemento...errore\n",
    "print(seq_a)"
   ]
  },
  {
   "cell_type": "markdown",
   "id": "2ce3265a",
   "metadata": {},
   "source": [
    "## Liste<a id='liste'></a>\n",
    "\n",
    "Tra parentesi quadre.\n",
    "\n",
    "* Ordinate \n",
    "* Indicizzate\n",
    "* Modificabili \n",
    "* Permettono duplicati"
   ]
  },
  {
   "cell_type": "code",
   "execution_count": null,
   "id": "fb54aa1a",
   "metadata": {},
   "outputs": [],
   "source": [
    "#         0   1   2   3   4\n",
    "seq_a = ['c','d','e','f','d']\n",
    "print(seq_a)\n",
    "\n",
    "seq_b = (60, 62, 63, 64, 62)\n",
    "print(seq_b)\n",
    "print(seq_b[0]) # Richiama un elemento\n",
    "\n",
    "seq_a[2] = 54   # Modifica un elemento...non da errore...\n",
    "print(seq_a)"
   ]
  },
  {
   "cell_type": "markdown",
   "id": "a8d96bbc",
   "metadata": {},
   "source": [
    "## Dictionary<a id='dict'></a> \n",
    "\n",
    "Tra parentesi graffe.\n",
    "\n",
    "* Ordinate \n",
    "* Non indicizzate\n",
    "* Modificabili \n",
    "* Non permettono duplicati"
   ]
  },
  {
   "cell_type": "code",
   "execution_count": null,
   "id": "bea3a7c0",
   "metadata": {},
   "outputs": [],
   "source": [
    "seq_a = {'I':(3,5,7), 'II':[2,4,6], 'III':[5,8,10]}\n",
    "print(seq_a)\n",
    "print(seq_a['II']) # Richiama un elemento\n",
    "\n",
    "seq_a['III'] = 12  # Modifica un elemento...non da errore...\n",
    "print(seq_a)\n",
    "\n",
    "seq_b = {60:'c\\'', 61:'cs\\'', 62:'d\\''} # Valore MIDI --> nome nota\n",
    "print(seq_b)\n",
    "print(seq_b[61])"
   ]
  },
  {
   "cell_type": "markdown",
   "id": "410efa40",
   "metadata": {},
   "source": [
    "## Set<a id='set'></a> \n",
    "\n",
    "Tra parentesi graffe.\n",
    "* Non ordinate \n",
    "* Non indicizzate\n",
    "* Non modificabili \n",
    "* Non permettono duplicati"
   ]
  },
  {
   "cell_type": "code",
   "execution_count": null,
   "id": "7b39e829",
   "metadata": {},
   "outputs": [],
   "source": [
    "seq_a = {'c','d','e','f','d'} # Il duplicato non viene preso in considerazione...\n",
    "print(seq_a)\n",
    "\n",
    "seq_b = {60, 62, 63, 64, 62}\n",
    "print(seq_b)\n",
    "print(seq_b[0])  # non permette di richiamare un item..e dunque di modificarlo"
   ]
  },
  {
   "cell_type": "markdown",
   "id": "f230954e",
   "metadata": {},
   "source": [
    "## Array (NumPy)<a id='nparray'></a> "
   ]
  },
  {
   "cell_type": "markdown",
   "id": "197d11fc",
   "metadata": {},
   "source": [
    "Se vogliamo effettuare operazioni aritmetiche su collezioni di numeri e in molti altri casi è consigliabile utilizzare i moduli di una libreria esterna: [NumPy](https://numpy.org).\n",
    "\n",
    "NumPy non fa parte della standard library, ma se abbiamo scaricato [Anaconda](https://www.anaconda.com/) dovrebbe essere già installata. \n",
    "\n",
    "In caso contrario possiamo installarla seguendo queste [istruzioni](https://numpy.org/install/).\n",
    "\n",
    "* Ordinati \n",
    "* Indicizzati\n",
    "* Modificabili \n",
    "* Permettono duplicati"
   ]
  },
  {
   "cell_type": "code",
   "execution_count": null,
   "id": "738329d6",
   "metadata": {},
   "outputs": [],
   "source": [
    "import numpy as np              # Importa la libreria numpy e le assegna un nome abbreviato per comodità (np)\n",
    "\n",
    "seq_a = [60, 62, 64]            # Lista (sia lettere che numeri)\n",
    "seq_b = np.array([60, 62, 64])  # Array di NumPy (solo numeri)\n",
    "\n",
    "print(seq_a)\n",
    "print(seq_b)                    # Array senza virgolette...\n",
    "\n",
    "seq_a = seq_a * 3 # Lista       # Notare il risultato differente per la stessa operazione...\n",
    "seq_b = seq_b * 3 # Array\n",
    "\n",
    "print(seq_a)\n",
    "print(seq_b)\n",
    "\n",
    "seq_c = seq_b.tolist()          # Casting da Array a List\n",
    "print(seq_c)"
   ]
  },
  {
   "cell_type": "markdown",
   "id": "4983c2fd",
   "metadata": {},
   "source": [
    "## Operazioni matematiche<a id='math'></a> \n",
    "\n",
    "Sugli Array di NumPy a differenza delle altre collezioni possiamo effettuare operazioni matematiche su **tutti** gli **items** della collezione."
   ]
  },
  {
   "cell_type": "code",
   "execution_count": null,
   "id": "7cd6f317",
   "metadata": {},
   "outputs": [],
   "source": [
    "import numpy as np  \n",
    "\n",
    "a = np.array([0, 4, 6, 8, 12]) # Sequenza di intervalli\n",
    "\n",
    "b = 60 + a  # Trasposizione...\n",
    "\n",
    "print(a)\n",
    "print(b)"
   ]
  },
  {
   "cell_type": "markdown",
   "id": "4e8c86d4",
   "metadata": {},
   "source": [
    "Osserviamo ora le principali operazioni."
   ]
  },
  {
   "cell_type": "code",
   "execution_count": null,
   "id": "146799a2",
   "metadata": {},
   "outputs": [],
   "source": [
    "x = 9                            # int\n",
    "y = 5.3                          # float\n",
    "z = np.array([1, 4.3, 6, 8, 12]) # Array\n",
    "\n",
    "print(x + y)\n",
    "print(x + z)\n",
    "print(\"\")\n",
    "print(x * y)\n",
    "print(x * z)\n",
    "print(\"\")\n",
    "print(x - y)\n",
    "print(x - z)\n",
    "print(\"\")\n",
    "print(x / y)\n",
    "print(x / z)\n",
    "print(\"\")\n",
    "print(y % x)      # modulo (resto)\n",
    "print(z % x)\n",
    "print(\"\")\n",
    "print(y ** x)     # esponente\n",
    "print(z ** x)\n",
    "print(\"\")\n",
    "print(y // 1)     # floor (approssima all'intero più basso) trunc\n",
    "print(z // 1)    "
   ]
  },
  {
   "cell_type": "markdown",
   "id": "f3dd9d96",
   "metadata": {},
   "source": [
    "Alcune regole generali.\n",
    "\n",
    "* Un'operazione tra int e float restituisce un float.\n",
    "* L'ordine delle operazioni è:  <pre>*  /  +  - </pre>"
   ]
  },
  {
   "cell_type": "code",
   "execution_count": null,
   "id": "28f1c1e9",
   "metadata": {},
   "outputs": [],
   "source": [
    "x = 9                            \n",
    "z = np.array([1, 4.3, 6, 8, 12]) \n",
    "\n",
    "print( x + z  * 2)   \n",
    "print((x + z) * 2) "
   ]
  },
  {
   "cell_type": "markdown",
   "id": "437fa091",
   "metadata": {},
   "source": [
    "* Operazioni di assegnamento."
   ]
  },
  {
   "cell_type": "code",
   "execution_count": null,
   "id": "1096bc2c",
   "metadata": {},
   "outputs": [],
   "source": [
    "x = 9                            \n",
    "z = np.array([1, 4.3, 6, 8, 12]) \n",
    "\n",
    "print(z)\n",
    "z = z + 2  # riassegnazione variabile\n",
    "print(z)\n",
    "\n",
    "z += 10    # riassegnazione variabile\n",
    "print(z)\n",
    "\n",
    "# -=       # vale per tutte le operazioni viste\n",
    "# *=\n",
    "# /=\n",
    "# **=\n",
    "# //="
   ]
  },
  {
   "cell_type": "markdown",
   "id": "32eba1f8",
   "metadata": {},
   "source": [
    "Accettano i principali metodi aritmetici (oltre a molti altri richiamabili dalle librerie)."
   ]
  },
  {
   "cell_type": "code",
   "execution_count": null,
   "id": "41ffe3cd",
   "metadata": {},
   "outputs": [],
   "source": [
    "z = np.array([1, 4.3, -6, 8, 12]) \n",
    "\n",
    "print(min(z))    # Valore minimo\n",
    "print(max(z))    # Valore massimo\n",
    "print(abs(z))    # Valore assoluto\n",
    "print(pow(z, 2)) # Esponente"
   ]
  },
  {
   "cell_type": "markdown",
   "id": "ba4867dc",
   "metadata": {},
   "source": [
    "## Esercizi musicali 3"
   ]
  },
  {
   "cell_type": "code",
   "execution_count": null,
   "id": "52b48fea",
   "metadata": {},
   "outputs": [],
   "source": [
    "# Da realizzare in aula"
   ]
  },
  {
   "cell_type": "markdown",
   "id": "ce2ae6b7",
   "metadata": {},
   "source": [
    "## Indexing e slicing<a id='slicing'></a> \n",
    "\n",
    "Richiamare i singoli elementi di quasi tutte le collezioni di python attraverso l'indice o la chiave: "
   ]
  },
  {
   "cell_type": "code",
   "execution_count": null,
   "id": "0636f236",
   "metadata": {},
   "outputs": [],
   "source": [
    "import numpy as np  # Importa la libreria numpy\n",
    "\n",
    "# --------------------- stringhe\n",
    "#    0123456\n",
    "x = 'a b c d' # anche gli spazi hanno un indice...\n",
    "y = x[2]\n",
    "print(y)\n",
    "\n",
    "# --------------------- tuple\n",
    "x = (60,62,64,65)\n",
    "y = x[0]\n",
    "print(y)\n",
    "\n",
    "# --------------------- liste \n",
    "x = ['a','b','c'] \n",
    "y = x[0]            # indice\n",
    "print(y)\n",
    "\n",
    "# --------------------- numpy array (array numerici)\n",
    "x = np.array([60,73,62,83])\n",
    "y = x[1]            # indice\n",
    "print(y)\n",
    "\n",
    "# --------------------- dict\n",
    "x = {60:'c', 61:'cs', 62:'d'}  \n",
    "y = x[61]           # chiave\n",
    "print(y)"
   ]
  },
  {
   "cell_type": "markdown",
   "id": "50b74722",
   "metadata": {},
   "source": [
    "Per le collezioni indicizzabili possiamo anche utilizzare indici negativi. \n",
    "\n",
    "L'indice -1 corrisponde al primo elemento da destra."
   ]
  },
  {
   "cell_type": "code",
   "execution_count": null,
   "id": "2bc30424",
   "metadata": {},
   "outputs": [],
   "source": [
    "import numpy as np  # Importa la libreria numpy\n",
    "\n",
    "# --------------------- stringhe\n",
    "x = 'a b c d' \n",
    "y = x[-3]\n",
    "print(y)\n",
    "\n",
    "# --------------------- tuple\n",
    "x = (60,62,64,65)\n",
    "y = x[-1]\n",
    "print(y)\n",
    "\n",
    "# --------------------- liste \n",
    "x = ['a','b','c'] \n",
    "y = x[-2]            # indice\n",
    "print(y)\n",
    "\n",
    "# --------------------- numpy array (array numerici)\n",
    "x = np.array([60,73,62,83])\n",
    "y = x[-3]            # indice\n",
    "print(y)"
   ]
  },
  {
   "cell_type": "markdown",
   "id": "92fcd0f9",
   "metadata": {},
   "source": [
    "Slicing $\\rightarrow$ specificare un range compreso tra un indice iniziale e uno finale (funziona solo da destra a sinistra). "
   ]
  },
  {
   "cell_type": "code",
   "execution_count": null,
   "id": "7969fe2c",
   "metadata": {},
   "outputs": [],
   "source": [
    "import numpy as np                 # Importa la libreria numpy\n",
    "\n",
    "#    012345678   \n",
    "x = 'a b c d e'                    # Stringa\n",
    "y = x[-3:]                         # da -5 alla fine (gli spazi hanno un indice)\n",
    "print(y)\n",
    "\n",
    "#    0   1  2  3  4  5\n",
    "x = (60,62,64,65,69,72)            # tuple\n",
    "y = x[:3 ]                         # da 0 a 2 (compreso)\n",
    "print(y)\n",
    "\n",
    "#     0   1   2   3   4   5  \n",
    "x = ['a','b','c','d','e','f']      # lista\n",
    "y = x[3:]                          # da 3 alla fine\n",
    "print(y)\n",
    "\n",
    "#              0  1  2  3  4  5\n",
    "x = np.array([60,73,62,83,95, 97]) # Array\n",
    "y = x[1:4]                         # da 1 a 4 (escluso) \n",
    "print(y)"
   ]
  },
  {
   "cell_type": "markdown",
   "id": "20617c89",
   "metadata": {},
   "source": [
    "## Esercizi musicali 4"
   ]
  },
  {
   "cell_type": "code",
   "execution_count": null,
   "id": "3239c799",
   "metadata": {},
   "outputs": [],
   "source": [
    "# Da realizzare in aula"
   ]
  },
  {
   "cell_type": "markdown",
   "id": "a687d945",
   "metadata": {},
   "source": [
    "# Boolean, condizioni e cicli<a id='boolean'></a> \n",
    "\n",
    "I valori booleiani derivano da un ramo dell'algebra sviluppata dal matematico George Boole in cui le variabili possono assumere solamente i valori vero e falso (valori di verità) e sono impiegati in operazioni condizionali.\n",
    "\n",
    "Attraverso il loro impiego possiamo costruire strutture di controllo.\n",
    "\n",
    "In python cominciano con la lettera maiuscola."
   ]
  },
  {
   "cell_type": "code",
   "execution_count": null,
   "id": "935bd5dc",
   "metadata": {},
   "outputs": [],
   "source": [
    "x = 5 < 10  # True\n",
    "y = 5 > 10  # False\n",
    "z = 5 == 10 # False\n",
    "\n",
    "print(x)\n",
    "print(y)\n",
    "print(z)"
   ]
  },
  {
   "cell_type": "markdown",
   "id": "2cd30864",
   "metadata": {},
   "source": [
    "Le seguenti assegnazioni di variabili restituiscono sempre False."
   ]
  },
  {
   "cell_type": "code",
   "execution_count": null,
   "id": "117133ee",
   "metadata": {},
   "outputs": [],
   "source": [
    "x = 0\n",
    "x = False\n",
    "x = None\n",
    "x = \"\"     # String\n",
    "x = ()     # Tuple\n",
    "x = []     # List\n",
    "x = {}     # Set\n",
    "\n",
    "print(x == True)  # bool()"
   ]
  },
  {
   "cell_type": "markdown",
   "id": "b2053d93",
   "metadata": {},
   "source": [
    "Nell'algebra di boole esistono due tipi di operatori:\n",
    "\n",
    "1. Operatori di comparazione (o relazionali)."
   ]
  },
  {
   "cell_type": "code",
   "execution_count": null,
   "id": "1bc4d14b",
   "metadata": {},
   "outputs": [],
   "source": [
    "x = 10 == 12\n",
    "y = 10 <  12\n",
    "z = 10 >  12\n",
    "h = 10 <= 12\n",
    "w = 10 >= 12\n",
    "l = 10 != 12\n",
    "\n",
    "print(x,y,z,h,w,l)"
   ]
  },
  {
   "cell_type": "markdown",
   "id": "7daed561",
   "metadata": {},
   "source": [
    "2. Operatori logici"
   ]
  },
  {
   "cell_type": "code",
   "execution_count": null,
   "id": "4ca1dbe8",
   "metadata": {},
   "outputs": [],
   "source": [
    "# --------------------- AND\n",
    "\n",
    "x = 16\n",
    "y = x > 5 and x < 10                 \n",
    "print(y)\n",
    "\n",
    "x = 6\n",
    "y = 5 < x < 10 # Solo in Python (no JavaScript o altro...)              \n",
    "print(y) \n",
    "\n",
    "# --------------------- OR\n",
    "\n",
    "x = 16\n",
    "y = x > 5 or x < 10\n",
    "print(y)\n",
    "\n",
    "# --------------------- NOT\n",
    "\n",
    "x = 16\n",
    "y = not(x > 10)                 \n",
    "print(y)"
   ]
  },
  {
   "cell_type": "markdown",
   "id": "064aaaa4",
   "metadata": {},
   "source": [
    "I valori booleiani sono impiegati nelle operazioni condizionali.\n",
    "\n",
    "1. costrutto if True:\n",
    "\n",
    "   se la condizione è vera: esegui l'operazione (o le operazioni). \n",
    "\n",
    "      - print(x) è spostato rispetto al margine sinistro di una tabulazione (quattro spazi).\n",
    "      - Questo costrutto sintattico si chiama indentazione e serve a definire blocchi di codice. \n",
    "      - Tutte le operazioni all'interno del costrutto saranno indentate con una tabulazione. \n",
    "      - Le indentazioni corrette sono automatiche se andiamo a capo** con enter."
   ]
  },
  {
   "cell_type": "code",
   "execution_count": null,
   "id": "624a40e8",
   "metadata": {},
   "outputs": [],
   "source": [
    "x = 4\n",
    "\n",
    "if x < 10:      # se x è minore di 10\n",
    "    print(x)    # stampa il valore in output"
   ]
  },
  {
   "cell_type": "markdown",
   "id": "1ccce76c",
   "metadata": {},
   "source": [
    "2. costrutto if con else:\n",
    "\n",
    "   se la condizione è vera: esegui questa operazione altrimenti esegui quest'altra operazione"
   ]
  },
  {
   "cell_type": "code",
   "execution_count": null,
   "id": "952e3cf4",
   "metadata": {},
   "outputs": [],
   "source": [
    "x = 12\n",
    "\n",
    "if x < 10:\n",
    "    print(True)\n",
    "else:\n",
    "    print(False)"
   ]
  },
  {
   "cell_type": "markdown",
   "id": "7536e379",
   "metadata": {},
   "source": [
    "3. costrutto if con elif (else if):\n",
    "\n",
    "   se questa condizione è vera: esegui questa operazione \n",
    "   \n",
    "   altrimenti se quest'altra condizione è vera: esegui quest'altra operazione \n",
    "   \n",
    "   altrimenti se quest'altra condizione è vera: esegui quest'altra operazione \n",
    "   \n",
    "   altrimenti se quest'altra condizione è vera: esegui quest'altra operazione \n",
    "   \n",
    "   ..."
   ]
  },
  {
   "cell_type": "code",
   "execution_count": null,
   "id": "2dc79d72",
   "metadata": {},
   "outputs": [],
   "source": [
    "x = 13\n",
    "\n",
    "if x < 10:                    # solo uno\n",
    "     print(\"minore di 10\") \n",
    "elif x == 10:                 # quanti ne vogliamo\n",
    "     print(\"uguale a 10\") \n",
    "elif x == 11:                 \n",
    "     print(\"uguale a 11\") \n",
    "else:                         # solo uno\n",
    "     print(\"maggiore di 10\")"
   ]
  },
  {
   "cell_type": "markdown",
   "id": "d400e3d0",
   "metadata": {},
   "source": [
    "3. costrutto con if annidati:"
   ]
  },
  {
   "cell_type": "code",
   "execution_count": null,
   "id": "826a3562",
   "metadata": {},
   "outputs": [],
   "source": [
    "x = 11\n",
    "\n",
    "if x % 2 == 0:                              # se x modulo 2 è uguale a 0\n",
    "    print(\"numero pari\")                    # esegui questo e...    \n",
    "    if x < 10:                              # se x (senza modulo 4) è minore di 10\n",
    "        print(\"numero pari e minore di 10\") # esegui questo...  \n",
    "else:                                       # altrimenti\n",
    "    print(\"numero dispari\")                 # esegui questo...  "
   ]
  },
  {
   "cell_type": "markdown",
   "id": "fb28fb08",
   "metadata": {},
   "source": [
    "## Esercizi musicali 5"
   ]
  },
  {
   "cell_type": "code",
   "execution_count": null,
   "id": "d3bb0f13",
   "metadata": {},
   "outputs": [],
   "source": [
    "# Da realizzare in aula"
   ]
  },
  {
   "cell_type": "markdown",
   "id": "cb01a090",
   "metadata": {},
   "source": [
    "## Espressioni condizionali<a id='conexpr'></a>\n",
    "\n",
    "Possiamo sostituire un'istruzione condizionale con un espressione condizionale (abbreviazione sintattica).\n",
    "\n",
    "La seguente struttura di controllo che traspone di un'ottava solo le altezze maggiori del DO centrale."
   ]
  },
  {
   "cell_type": "code",
   "execution_count": null,
   "id": "af76ddca",
   "metadata": {},
   "outputs": [],
   "source": [
    "x = 65\n",
    "\n",
    "if x > 60:\n",
    "    y = x + 12\n",
    "else:\n",
    "    y = x\n",
    "    \n",
    "print(y)"
   ]
  },
  {
   "cell_type": "markdown",
   "id": "7f2dc53c",
   "metadata": {},
   "source": [
    "Può essere riscritta in questo modo:"
   ]
  },
  {
   "cell_type": "code",
   "execution_count": null,
   "id": "03b171f8",
   "metadata": {},
   "outputs": [],
   "source": [
    "x = 57\n",
    "y = x + 12 if x > 60 else x\n",
    "print(y)"
   ]
  },
  {
   "cell_type": "markdown",
   "id": "b71f4c65",
   "metadata": {},
   "source": [
    "## Iterare (ciclo for)<a id='loop'></a> \n",
    "\n",
    "Possiamo iterare gli elementi di una collezione richiamandoli uno a uno con il ciclo for. \n",
    "\n",
    "Due possibilità:\n",
    "\n",
    "1. Iterazione completa - richiamiamo direttamante gli elementi della collezione. "
   ]
  },
  {
   "cell_type": "code",
   "execution_count": null,
   "id": "4bd712d0",
   "metadata": {},
   "outputs": [],
   "source": [
    "#       0    1   2   3    4   5    6   7   \n",
    "smt = ('c','cs','d','ds','e','f','fs','g') # tuple o altra collezione indicizzabile\n",
    "\n",
    "for i in smt:   \n",
    "    print(i)"
   ]
  },
  {
   "cell_type": "markdown",
   "id": "ab4eab46",
   "metadata": {},
   "source": [
    "2. Iterazione parziale (slicing) - richiamiamo gli indici."
   ]
  },
  {
   "cell_type": "code",
   "execution_count": null,
   "id": "e4b84918",
   "metadata": {},
   "outputs": [],
   "source": [
    "#       0    1   2   3    4   5    6   7   \n",
    "smt = ('c','cs','d','ds','e','f','fs','g') # tuple o altra collezione indicizzabile\n",
    "\n",
    "for i in range(3):       # da 0 a 2\n",
    "    print(smt[i])\n",
    "    \n",
    "print('-------')  \n",
    "\n",
    "for i in range(3, 6):    # da 3 a 5\n",
    "    print(smt[i])\n",
    "    \n",
    "print('-------')  \n",
    "\n",
    "for i in range(1, 6, 2): # da 1 a 5 con passo di 2\n",
    "    print(smt[i])"
   ]
  },
  {
   "cell_type": "markdown",
   "id": "e0fc12f7",
   "metadata": {},
   "source": [
    "Altri elementi sintattici che possono tornare utili.\n",
    "\n",
    "* else - quando finisce l'iterazione esegue l'operazione."
   ]
  },
  {
   "cell_type": "code",
   "execution_count": null,
   "id": "7e75d987",
   "metadata": {},
   "outputs": [],
   "source": [
    "#       0    1   2   3    4   5    6   7   \n",
    "smt = ('c','cs','d','ds','e','f','fs','g') # tuple o altra collezione indicizzabile\n",
    "\n",
    "for i in range(3):       # da 0 a 2\n",
    "    print(smt[i])\n",
    "else:\n",
    "    print('\\\\key \\\\treble ')"
   ]
  },
  {
   "cell_type": "markdown",
   "id": "61b3606e",
   "metadata": {},
   "source": [
    "* break - se vogliamo interrompere l'iterazione al verificarsi di una condizione.  "
   ]
  },
  {
   "cell_type": "code",
   "execution_count": null,
   "id": "1a647777",
   "metadata": {},
   "outputs": [],
   "source": [
    "#       0    1   2   3    4   5    6   7   \n",
    "smt = ('c','cs','d','ds','e','f','fs','g') # tuple o altra collezione indicizzabile\n",
    "\n",
    "for i in range(5):   # da 0 a 4\n",
    "    if i == 3:       # se i è uguale a 3 si ferma\n",
    "        break\n",
    "    print(smt[i])"
   ]
  },
  {
   "cell_type": "markdown",
   "id": "61a4c859",
   "metadata": {},
   "source": [
    "* continue - se vogliamo saltare un elemento al verificarsi di una condizione.  "
   ]
  },
  {
   "cell_type": "code",
   "execution_count": null,
   "id": "3c579e5c",
   "metadata": {},
   "outputs": [],
   "source": [
    "#       0    1   2   3    4   5    6   7   \n",
    "smt = ('c','cs','d','ds','e','f','fs','g') # tuple o altra collezione indicizzabile\n",
    "\n",
    "for i in smt:       # itera tutta la collezione\n",
    "    if i == 'ds':   # se i è uguale a 'ds' salta l'elemento\n",
    "        continue\n",
    "    print(i)\n",
    "    \n",
    "print('----------')\n",
    "\n",
    "for i in range(5):       # da 0 a 4\n",
    "    if i == 3:           # se i è uguale a 3 salta l'elemento\n",
    "        continue\n",
    "    print(smt[i])"
   ]
  },
  {
   "cell_type": "markdown",
   "id": "ae68fef4",
   "metadata": {},
   "source": [
    "* for indentati - possiamo inserire dei cicli dentro altri cicli.  "
   ]
  },
  {
   "cell_type": "code",
   "execution_count": null,
   "id": "713566ca",
   "metadata": {},
   "outputs": [],
   "source": [
    "for riga in range(3):\n",
    "    for colonna in range(4):\n",
    "        print(\"[riga \" + str(riga) + \" : colonna \" + str(colonna) + \"]\")"
   ]
  },
  {
   "cell_type": "markdown",
   "id": "33a947fb",
   "metadata": {},
   "source": [
    "## Esercizi musicali 6"
   ]
  },
  {
   "cell_type": "code",
   "execution_count": null,
   "id": "c37058d8",
   "metadata": {},
   "outputs": [],
   "source": [
    "# Da realizzare in aula"
   ]
  },
  {
   "cell_type": "markdown",
   "id": "53d73c6d",
   "metadata": {},
   "source": [
    "## Iterare (ciclo while)<a id='while'></a> \n",
    "\n",
    "Lega l'iterazione al verificarsi o meno di una condizione. \n",
    "\n",
    "Esegue il ciclo fino a quando la condizione restituisce true."
   ]
  },
  {
   "cell_type": "code",
   "execution_count": null,
   "id": "96dc641f",
   "metadata": {},
   "outputs": [],
   "source": [
    "i = 0        # init contatore\n",
    "\n",
    "while i < 6: # fino a quando la condizione è vera\n",
    "    print(i) # esegui\n",
    "    i += 1   # aggiorna il contatore\n",
    "\n",
    "print(\"Fine\") #è fuori dal ciclo (non indentato...)"
   ]
  },
  {
   "cell_type": "markdown",
   "id": "413e65b4",
   "metadata": {},
   "source": [
    "Valgono i costrutti sintattici illustrati per for."
   ]
  },
  {
   "cell_type": "code",
   "execution_count": null,
   "id": "172a394e",
   "metadata": {},
   "outputs": [],
   "source": [
    "# --------------------- else\n",
    "\n",
    "i = 0                   # init contatore  \n",
    "while i < 6:\n",
    "    print(i)\n",
    "    i += 1\n",
    "else:\n",
    "     print(\"ho finito\") # dentro al ciclo\n",
    "\n",
    "# --------------------- break\n",
    "\n",
    "i = 0                   # init contatore\n",
    "while i < 6:\n",
    "    print(i)\n",
    "    if i == 3:          # se 3...stoppa ed esce dal ciclo\n",
    "         break\n",
    "    i += 1\n",
    "    \n",
    "print(\"ho finito\")      # fuori dal ciclo\n",
    "\n",
    "# --------------------- continue\n",
    "\n",
    "i = 0                   # init contatore\n",
    "while i < 6:\n",
    "    i += 1\n",
    "    if i == 3:          # se 3...salta\n",
    "        continue\n",
    "    print(i)\n",
    "    \n",
    "print(\"ho finito\")      # fuori dal ciclo"
   ]
  },
  {
   "cell_type": "markdown",
   "id": "03a70f53",
   "metadata": {},
   "source": [
    "## Esercizi musicali 7"
   ]
  },
  {
   "cell_type": "code",
   "execution_count": null,
   "id": "14ab8069",
   "metadata": {},
   "outputs": [],
   "source": [
    "# Da realizzare in aula"
   ]
  },
  {
   "cell_type": "markdown",
   "id": "72d6ed69",
   "metadata": {},
   "source": [
    "## List comprehension<a id='listc'></a> \n",
    "\n",
    "La list comprehension è una sintassi alternativa (abbreviazione sintattica) usata spesso quando vogliamo generare, analizzare o modificare liste attraverso iterazioni.\n",
    "\n",
    "La seguente iterazione:"
   ]
  },
  {
   "cell_type": "code",
   "execution_count": null,
   "id": "52c41340",
   "metadata": {},
   "outputs": [],
   "source": [
    "fond  = 100    # frequenza fondamentale\n",
    "freqs = []     # lista vuota\n",
    "\n",
    "for i in range(5):    \n",
    "    freqs.append(fond * (i+1))\n",
    "    \n",
    "print(freqs)"
   ]
  },
  {
   "cell_type": "markdown",
   "id": "059a6d97",
   "metadata": {},
   "source": [
    "Può essere scritta in modo più conciso: "
   ]
  },
  {
   "cell_type": "code",
   "execution_count": null,
   "id": "980fc4ad",
   "metadata": {},
   "outputs": [],
   "source": [
    "fond  = 100    # frequenza fondamentale\n",
    "freqs = []     # lista vuota\n",
    "\n",
    "# operazione                 iterazione\n",
    "[freqs.append(fond * (i+1)) for i in range(5)]\n",
    "\n",
    "print(freqs)"
   ]
  },
  {
   "cell_type": "markdown",
   "id": "4b6e6010",
   "metadata": {},
   "source": [
    "## Generator expression<a id='genexp'></a> \n",
    "\n",
    "Simili alle list comprehension ma con parenesi tonde invece che quadre."
   ]
  },
  {
   "cell_type": "code",
   "execution_count": null,
   "id": "50f77b52",
   "metadata": {},
   "outputs": [],
   "source": [
    "o = (i**2 for i in range(5))"
   ]
  },
  {
   "cell_type": "markdown",
   "id": "83f101fc",
   "metadata": {},
   "source": [
    "La differenza consiste nel fatto che non calcola immediatamente tutti i valori ma solo quando lo chiediamo attraverso il comando next. "
   ]
  },
  {
   "cell_type": "code",
   "execution_count": null,
   "id": "edec56ca",
   "metadata": {},
   "outputs": [],
   "source": [
    "next(o)"
   ]
  },
  {
   "cell_type": "markdown",
   "id": "374280d9",
   "metadata": {},
   "source": [
    "Alla fine dell'iterazione solleva un'eccezione StopIteration."
   ]
  },
  {
   "cell_type": "markdown",
   "id": "5a1e939a",
   "metadata": {},
   "source": [
    "# Modelli informatici<a id='strapro'></a>\n",
    "\n",
    "Ora che conosciamo le principali caratteristiche sintattiche di python possiamo cominciare ad organizzare il pensiero computazionale in modo più organico.\n",
    "\n",
    "Due modelli differenti ognuno dei quali ha proprie caratteristiche e fa riferimento a due oggetti specif:\n",
    "\n",
    "* Funzioni\n",
    "* Classi"
   ]
  },
  {
   "cell_type": "markdown",
   "id": "7fe2f489",
   "metadata": {},
   "source": [
    "# Funzioni<a id='funzioni'></a> \n",
    "\n",
    "Formalizzazione di operazioni ricorrenti in modelli riproducibili e facilmente modificabili.\n",
    "\n",
    "Possiamo salvare una o più funzioni di uso comune in files esterni ([**moduli**](#librerie)) per poi importarle successivamente in un qualsiasi file.\n",
    "\n",
    "Blocco di codice riutilizzabile con alcune caratteristiche specifiche:\n",
    "\n",
    "* un nome\n",
    "* uno (o più) dati in ingresso.\n",
    "* una sequenza di operazioni da effettuare sui dati inviati ai parametri.\n",
    "* uno (o più) dati in uscita (il risultato delle operazioni effettuate sui dati in ingresso).\n",
    "\n",
    "In questo processo i dati in uscita variano in funzione di quelli in ingresso.\n",
    "\n",
    "I dati in input specificati con il nome si chiamano parametri. \n",
    "I dati che saranno inviati ad essi richiamando la funzione argomenti.\n",
    "\n",
    "Formalizziamo come esempio la necessità musicale di ottenere (dati in uscita) un determinato numero di valori pseudocasuali (midinote o altro) compresi tra un minimo e un massimo (dati in ingresso).\n",
    "\n",
    "1. Definiamo l'algoritmo."
   ]
  },
  {
   "cell_type": "code",
   "execution_count": null,
   "id": "fe7e9148",
   "metadata": {},
   "outputs": [],
   "source": [
    "import numpy as np                 # Modulo programmato da terzi\n",
    "\n",
    "n   = 5                            # Dati in ingresso\n",
    "min = 60\n",
    "max = 72\n",
    "\n",
    "rng = np.random.default_rng()      # Sequenza finita di operazioni\n",
    "seq = rng.integers(min,max,size=n) \n",
    "\n",
    "print(seq)                         # Dati in uscita"
   ]
  },
  {
   "cell_type": "markdown",
   "id": "b8671b2b",
   "metadata": {},
   "source": [
    "2. Definiamo una funzione che contiene l'algoritmo."
   ]
  },
  {
   "cell_type": "code",
   "execution_count": null,
   "id": "efaecc45",
   "metadata": {},
   "outputs": [],
   "source": [
    "import numpy as np\n",
    "\n",
    "# --------------------- definiamo la funzione\n",
    "\n",
    "def r_minmax(min=0,max=127,n=3):  # Nome e parametri con valori di default \n",
    "                                  # Stringa di documentazione (opzionale ma consigliata) \n",
    "    '''\n",
    "      Genera un numero di interi n\n",
    "      compreso tra min e max\n",
    "    '''\n",
    "    rng = np.random.default_rng() # Algoritmo con parametri    \n",
    "    seq = rng.integers(min,max,size=n)\n",
    "    \n",
    "    return seq                    # Restituisce il risultato in output (funzione produttiva)"
   ]
  },
  {
   "cell_type": "markdown",
   "id": "a2a96733",
   "metadata": {},
   "source": [
    "3. Richiamiamo la funzione passando gli argomenti."
   ]
  },
  {
   "cell_type": "code",
   "execution_count": null,
   "id": "28507ebe",
   "metadata": {},
   "outputs": [],
   "source": [
    "a = r_minmax()                    # Funzione senza argomenti (Dati in ingresso di default)\n",
    "b = r_minmax(60,72,5)             # Funzione con argomenti (Dati in ingresso)\n",
    "c = r_minmax(min=90,max=92,n=20)  # Funzione con argomenti (Dati in ingresso)\n",
    "\n",
    "print(a)\n",
    "print(b)\n",
    "print(c)"
   ]
  },
  {
   "cell_type": "markdown",
   "id": "8749704f",
   "metadata": {},
   "source": [
    "## Operazioni principali delle funzioni \n",
    "\n",
    "* Argomenti arbitrari - quando non conosciamo il numero esatto di argomenti."
   ]
  },
  {
   "cell_type": "code",
   "execution_count": null,
   "id": "fbca0c89",
   "metadata": {},
   "outputs": [],
   "source": [
    "def arbitra(*args):      # Asterisco prima del nome\n",
    "    \n",
    "    rng = np.random.default_rng() \n",
    "    seq = rng.integers(args[0],args[1],size=args[2])  \n",
    "    return(seq)\n",
    "\n",
    "a = arbitra(56,79,3)\n",
    "print(a)"
   ]
  },
  {
   "cell_type": "markdown",
   "id": "ee9f6c8a",
   "metadata": {},
   "source": [
    "* Keywords."
   ]
  },
  {
   "cell_type": "code",
   "execution_count": null,
   "id": "9061f529",
   "metadata": {},
   "outputs": [],
   "source": [
    "def arghi(min=0,max=127,n=3):  # Nomi dei parametri\n",
    "    \n",
    "    rng = np.random.default_rng() \n",
    "    seq = rng.integers(min,max,size=n)  \n",
    "    return(seq)\n",
    "\n",
    "a = arghi(n=6, max=83,min=45)  # Con nomi va bene qualsiasi ordine\n",
    "\n",
    "print(a)"
   ]
  },
  {
   "cell_type": "markdown",
   "id": "2fa6b49a",
   "metadata": {},
   "source": [
    "* Return. \n",
    "\n",
    "  Le funzioni possono essere:\n",
    "  - produttive se effettuano le operazioni e restituiscono dati in uscita  \n",
    "  - non produttive se effettuano le operazioni ma non restituiscono valori in uscita.\n",
    "\n",
    "* Return booleiani. "
   ]
  },
  {
   "cell_type": "code",
   "execution_count": null,
   "id": "6bbe27d5",
   "metadata": {},
   "outputs": [],
   "source": [
    "def valore_assoluto(x):\n",
    "     if x < 0:\n",
    "        return -x # return 1\n",
    "     else:        # return 2\n",
    "        return x\n",
    "\n",
    "a = valore_assoluto(-12)\n",
    "\n",
    "print(a)     \n",
    "\n",
    "# -----------------------------------\n",
    "\n",
    "def divisibile(x, y):\n",
    "    if x % y == 0:\n",
    "         return True\n",
    "    else:\n",
    "         return False\n",
    "\n",
    "b = divisibile(5,2)\n",
    "\n",
    "print(b)  "
   ]
  },
  {
   "cell_type": "markdown",
   "id": "19569488",
   "metadata": {},
   "source": [
    "* Funzioni ricursive. Possiamo richiamare una funzione all'interno di se stessa."
   ]
  },
  {
   "cell_type": "code",
   "execution_count": null,
   "id": "905a4326",
   "metadata": {},
   "outputs": [],
   "source": [
    "def contoallarovescia(n):\n",
    "    if n <= 0:\n",
    "        print('Via!')\n",
    "    else:\n",
    "        print(n)\n",
    "        contoallarovescia(n-1) # richiama se stessa...\n",
    "\n",
    "contoallarovescia(5)"
   ]
  },
  {
   "cell_type": "markdown",
   "id": "18a4190b",
   "metadata": {},
   "source": [
    "## Esercizi musicali 8"
   ]
  },
  {
   "cell_type": "code",
   "execution_count": null,
   "id": "b1a8e472",
   "metadata": {},
   "outputs": [],
   "source": [
    "# Da realizzare in aula"
   ]
  },
  {
   "cell_type": "markdown",
   "id": "2bf3dafc",
   "metadata": {},
   "source": [
    "# Moduli custom<a id='modularita'></a> \n",
    "\n",
    "Possiamo salvare una o più funzioni in un file con l'estensione .py."
   ]
  },
  {
   "cell_type": "code",
   "execution_count": null,
   "id": "1ecdc0b0",
   "metadata": {},
   "outputs": [],
   "source": [
    "import numpy as np   # modulo necessario alla funzione salvata\n",
    "\n",
    "# ------------------------------- r_minmax\n",
    "\n",
    "def r_minmax(min=0,max=127,n=3):                                    \n",
    "    '''Genera un numero di interi n\n",
    "       compreso tra min e max\n",
    "    '''\n",
    "    rng = np.random.default_rng() \n",
    "    seq = rng.integers(min,max,size=n)    \n",
    "    return seq      "
   ]
  },
  {
   "cell_type": "markdown",
   "id": "2da7cfbd",
   "metadata": {},
   "source": [
    "Successivamente possiamo importarle in qualsiasi altro file con le stesse modalità impiegate nell'importare moduli e [librerie](#librerie) già realizzate da altri.\n",
    "\n",
    "In questo caso:\n",
    "\n",
    "* i due files devono essere nella stessa cartella oppure. \n",
    "* dobbiamo aggiungere al path di sistema la cartella in cui si trovano i moduli che vogliamo importare."
   ]
  },
  {
   "cell_type": "code",
   "execution_count": null,
   "id": "6c427a8c",
   "metadata": {},
   "outputs": [],
   "source": [
    "import os\n",
    "import sys\n",
    "\n",
    "path = os.path.abspath('moduli') # Restituisce il path assoluto della cartella\n",
    "sys.path.insert(0, path)         # Aggiunge la cartella moduli alla directory di lavoro\n",
    "\n",
    "import funzione as fn            # Importa il modulo custom\n",
    "\n",
    "a = fn.r_minmax(60,72,5)         # Richiama la funzione con argomenti (Dati in ingresso)\n",
    "b = fn.r_minmax(60,72,5) \n",
    "print(a)\n",
    "print(b)"
   ]
  },
  {
   "cell_type": "markdown",
   "id": "688805d4",
   "metadata": {},
   "source": [
    "Possiamo così strutturare i nostri moduli in librerie dedicate a determinate operazioni a seconda delle necessità e in base a criteri dettati da un ordine personale.\n",
    "\n",
    "Un solo file esterno può contenere più funzioni.\n",
    "\n",
    "Possiamo scegliere di definire una funzione per ogni singola necessità come appena illustrato aumentendo la modularità oppure accorpare diverse necessità rendendo meno aperti e più finalizzati gli algoritmi.\n",
    "\n",
    "Come esempio programmiamo nello stesso file una seconda funzione che realizza una trasposizione in semitoni."
   ]
  },
  {
   "cell_type": "code",
   "execution_count": null,
   "id": "6fc40d02",
   "metadata": {},
   "outputs": [],
   "source": [
    "import numpy as np   # modulo necessario alla funzione salvata\n",
    "\n",
    "# ------------------------------- r_minmax\n",
    "\n",
    "def r_minmax(min=0,max=127,n=3):                                    \n",
    "    '''Genera un numero di interi n\n",
    "       compreso tra min e max\n",
    "    '''\n",
    "    rng = np.random.default_rng() \n",
    "    seq = rng.integers(min,max,size=n)    \n",
    "    return seq  \n",
    "\n",
    "# ------------------------------- trasp\n",
    "\n",
    "def trasp(seq=np.array([60,61,62]), semit=0):                                    \n",
    "    '''Traspone una sequenza in semitoni\n",
    "    '''\n",
    "    seq = seq + semit   \n",
    "    return seq     "
   ]
  },
  {
   "cell_type": "markdown",
   "id": "64e802f4",
   "metadata": {},
   "source": [
    "Richiamiamo le funzioni"
   ]
  },
  {
   "cell_type": "code",
   "execution_count": null,
   "id": "7c7c977a",
   "metadata": {},
   "outputs": [],
   "source": [
    "import os\n",
    "import sys\n",
    "path = os.path.abspath('moduli')   \n",
    "sys.path.insert(0, path)           \n",
    "import funzione as fn              \n",
    "\n",
    "# ------------------------------- \n",
    "\n",
    "seq = fn.r_minmax(60,72,8)\n",
    "print(\"Originale:\", seq)  \n",
    "\n",
    "seq = fn.trasp(seq, 10)\n",
    "print(\"Trasposto:\", seq) "
   ]
  },
  {
   "cell_type": "markdown",
   "id": "74acf45c",
   "metadata": {},
   "source": [
    "La scelta di come organizzare le nostre funzioni in moduli e librerie dipende dalle esigenze musicali e personali di ognuno."
   ]
  },
  {
   "cell_type": "markdown",
   "id": "eb8e4914",
   "metadata": {},
   "source": [
    "## Esercizi musicali 9"
   ]
  },
  {
   "cell_type": "code",
   "execution_count": null,
   "id": "b197d9d3",
   "metadata": {},
   "outputs": [],
   "source": [
    "# Da realizzare in aula"
   ]
  },
  {
   "cell_type": "markdown",
   "id": "ab41499f",
   "metadata": {},
   "source": [
    "# Programmazione orientata agli oggetti<a id='classi'></a> \n",
    "\n",
    "La programmazione orientata agli oggetti (OOP) è un paradigma di programmazione in cui i dati e operazioni sui dati vengono organizzati in classi, istanze e metodi."
   ]
  },
  {
   "cell_type": "markdown",
   "id": "d6910805",
   "metadata": {},
   "source": [
    "## Classi e istanze<a id='classi_ist'></a> \n",
    "\n",
    "Se vogliamo definire attraverso il codice una sequenza musicale abbiamo tre possibilità:\n",
    "\n",
    "* Memorizzare le note che la compongono in più variabili.\n",
    "* Memorizzare le note che la compongono in una collezione.\n",
    "* Creare una nuova Classe che rappresenta qualsiasi tipo di sequenza di altezze come oggetto.\n",
    "\n",
    "Pensiamo una classe come uno stampino che ci permette di fabbricare diversi oggetti del medesimo tipo (istanze)."
   ]
  },
  {
   "cell_type": "code",
   "execution_count": null,
   "id": "6688e736",
   "metadata": {},
   "outputs": [],
   "source": [
    "c, e, g = 60, 64, 67 # variabili\n",
    "print(c)\n",
    "print(e)\n",
    "print(g)\n",
    "\n",
    "seq = (60, 64, 67)  # collezione\n",
    "print(seq)\n",
    "\n",
    "class Sequenza:                                            # intestazione (nome della Classe)\n",
    "    '''Rappresenta le altezze di un accordo qualsiasi'''   # Stringa di documentazione   \n",
    "print(Sequenza)"
   ]
  },
  {
   "cell_type": "markdown",
   "id": "d3586690",
   "metadata": {},
   "source": [
    "In un albero gerarchico questa classe è stata creata al livello principale e il suo nome è: '\\_\\_\\_main\\_\\_\\_\\.Sequenza'.\n",
    "\n",
    "Comincia con una lettera maiuscola.\n",
    "\n",
    "Definita la classe possiamo creare tante sequenze (per ora vuote - istanze) utilizzandola come stampino. "
   ]
  },
  {
   "cell_type": "code",
   "execution_count": null,
   "id": "ff0102fe",
   "metadata": {},
   "outputs": [],
   "source": [
    "a = Sequenza()\n",
    "b = Sequenza()\n",
    "\n",
    "print(a)\n",
    "print(b)"
   ]
  },
  {
   "cell_type": "markdown",
   "id": "8e120c6e",
   "metadata": {},
   "source": [
    "Osserviamo come Python ci riporta in quale allocazione di memoria ha collocato la singola istanza.\n",
    "\n",
    "Per eliminare un'istanza o una classe."
   ]
  },
  {
   "cell_type": "code",
   "execution_count": null,
   "id": "85eb19fa",
   "metadata": {},
   "outputs": [],
   "source": [
    "del a    # elimina l'istanza\n",
    "print(a) # dà errore..."
   ]
  },
  {
   "cell_type": "code",
   "execution_count": null,
   "id": "14769c19",
   "metadata": {},
   "outputs": [],
   "source": [
    "print(Sequenza)\n",
    "del Sequenza     # Elimina la Classe\n",
    "print(Sequenza)  # dà errore..."
   ]
  },
  {
   "cell_type": "markdown",
   "id": "106dadd7",
   "metadata": {},
   "source": [
    "## Metodi<a id='metodi'></a> \n",
    "\n",
    "Nel passaggio precedente abbiamo definito la classe Sequenza (stampino) grazie alla quale abbiamo fabbricato due oggetti (istanze).\n",
    "\n",
    "Qeste copie però sono identiche (in questo caso oltretutto sono dei contenitori vuoti). \n",
    "\n",
    "Per differenziarli tra loro (costruire sequenze diverse) dobbiamo necessariamente specificare all'interno della definizione della classe uno o più 'attributi' come ad esempio i valori delle altezze.\n",
    "\n",
    "Si chiamano attributi perchè sono valori ai quali attribuiamo un nome.\n",
    "\n",
    "In questo frangente possiamo specificarli come valori midi o attraverso un'altra rappresentazione numerica a nostro piacimento.\n",
    "\n",
    "Per farlo dobbiamo dichiarare dei metodi ovvero delle funzioni definite all'interno della Classe."
   ]
  },
  {
   "cell_type": "code",
   "execution_count": null,
   "id": "a6fbace7",
   "metadata": {},
   "outputs": [],
   "source": [
    "class Sequenza:                                   # intestazione (nome della Classe)\n",
    "    '''Rappresenta le altezze di una sequenza'''  # Stringa di documentazione\n",
    "    \n",
    "    def note(nota1,nota2,nota3):                  # metodo con attributi\n",
    "        return (nota1, nota2, nota3)              # azione da compiere"
   ]
  },
  {
   "cell_type": "markdown",
   "id": "97fd1bf0",
   "metadata": {},
   "source": [
    "Possiamo poi **passare attributi** alle Classi **invocando** i metodi attraverso la sintassi seguente."
   ]
  },
  {
   "cell_type": "code",
   "execution_count": null,
   "id": "eaf4f1d2",
   "metadata": {},
   "outputs": [],
   "source": [
    "a = Sequenza.note(60,64,67)   # Classe.metodo(arg1,arg2,arg3)\n",
    "b = Sequenza.note(90,34,56)   # Classe.metodo(arg1,arg2,arg3)\n",
    "\n",
    "print(a)\n",
    "print(b)"
   ]
  },
  {
   "cell_type": "markdown",
   "id": "68d4abeb",
   "metadata": {},
   "source": [
    "In questo caso abbiamo definito tre attributi e tutte le sequenze dovranno essere formate sempre da tre note.\n",
    "\n",
    "Per rendere dinamico il numero di attributi (in questo caso il numero di note della sequenza) dovremmo utilizzare la parola chiave *args come abbiamo visto per le funzioni (i metodi sono a tutti gli effetti delle funzioni dichiarate all'interno di una classe)."
   ]
  },
  {
   "cell_type": "code",
   "execution_count": null,
   "id": "4f8b7272",
   "metadata": {},
   "outputs": [],
   "source": [
    "class Sequenza:                                   \n",
    "    '''Rappresenta le altezze di una sequenza'''   \n",
    "    \n",
    "    def note(*args):      # metodo con attributi dinamici\n",
    "        return args       # senza l'asterisco...        "
   ]
  },
  {
   "cell_type": "code",
   "execution_count": null,
   "id": "cd4929de-9f67-482b-af94-ad7ae4655bd0",
   "metadata": {},
   "outputs": [],
   "source": [
    "Sequenza.note(60, 64, 67, 72, 80, 45)"
   ]
  },
  {
   "cell_type": "markdown",
   "id": "71cdde82",
   "metadata": {},
   "source": [
    "Esiste un metodo speciale di inizializzazione che permette di differenziare gli attributi iniziali delle diverse istanze chiamato anche costruttore che è presente in quasi tutte le classi."
   ]
  },
  {
   "cell_type": "code",
   "execution_count": null,
   "id": "4ca274c6",
   "metadata": {},
   "outputs": [],
   "source": [
    "class Sequenza:                                  \n",
    "    '''Rappresenta le altezze di una sequenza''' \n",
    "                                                               # Costruttore\n",
    "    def __init__(self, nota1=60, nota2=64, nota3=67, trasp=0): # Attributi con valori di default\n",
    "        self.nota1 = nota1                                     # Proprietà \n",
    "        self.nota2 = nota2\n",
    "        self.nota3 = nota3\n",
    "        self.trasp = trasp\n",
    "        \n",
    "    def ottieni(self):                         # metodo 2 - azione da compiere\n",
    "        return (self.nota1, self.nota2, self.nota3)     \n",
    "        \n",
    "    def trasponi(self):                        # metodo 3 - azione da compiere\n",
    "        self.nota1 = self.nota1 + self.trasp\n",
    "        self.nota2 = self.nota2 + self.trasp \n",
    "        self.nota3  = self.nota3  + self.trasp "
   ]
  },
  {
   "cell_type": "markdown",
   "id": "9b97f4f2",
   "metadata": {},
   "source": [
    "Alcune osservazioni:\n",
    "\n",
    "* il primo attributo di \\_\\_init\\_\\_ è 'self' e serve per differenziare le istanze tra loro.\n",
    "* le proprietà sono riferite alla singola istanza e di prassi coincidono con gli attributi della funzione \\_\\_init\\_\\_.\n",
    "* per ottenere i valori (compiere un'azione) abbiamo definito un metodo separato che accetta come attributi tutte le propietà della singola istanza.\n",
    "* per trasportare abbiamo definito un ulteriore metodo.\n",
    "\n",
    "Generiamo tre istanze:"
   ]
  },
  {
   "cell_type": "code",
   "execution_count": null,
   "id": "7523d78c",
   "metadata": {},
   "outputs": [],
   "source": [
    "a = Sequenza()             # Istanza con attributi di default\n",
    "b = Sequenza(56,78,92,10)  # Passiamo tutti gli attributi\n",
    "c = Sequenza(60,89)        # Parte sostituiti e parte di default\n",
    "d = Sequenza(nota3=12)     # Notazione per parola chiave"
   ]
  },
  {
   "cell_type": "markdown",
   "id": "c7aff76d",
   "metadata": {},
   "source": [
    "**Invochiamo** il metodo ._ottieni()_"
   ]
  },
  {
   "cell_type": "code",
   "execution_count": null,
   "id": "87c292a4",
   "metadata": {},
   "outputs": [],
   "source": [
    "print(a.ottieni())  # Invoca il metodo ottieni\n",
    "print(b.ottieni())  # non fa alcuna trasposizione in quanto non abbiamo invocato il metodo\n",
    "                    # anche se abbiamo passato l'argomento nell'istanzializzazione\n",
    "print(c.ottieni())\n",
    "print(d.ottieni())"
   ]
  },
  {
   "cell_type": "code",
   "execution_count": null,
   "id": "761197e9",
   "metadata": {},
   "outputs": [],
   "source": [
    "b.trasponi()       # invoca la trasposizione\n",
    "\n",
    "print(b.ottieni()) # stampa il risultato della trasposizione"
   ]
  },
  {
   "cell_type": "markdown",
   "id": "31e3e6c3",
   "metadata": {},
   "source": [
    "Eseguiamo nuovamente la cella precedente ci sarà una nuova trasposizione in quanto i valori delle proprietà sono state sostituite da quelli generati nell'ultima computazione.\n",
    "\n",
    "Per modificare gli attributi di un'istanza dall'esterno:\n"
   ]
  },
  {
   "cell_type": "code",
   "execution_count": null,
   "id": "4d36518c",
   "metadata": {},
   "outputs": [],
   "source": [
    "a.nota1 = 45       # modifica l'attributo\n",
    "\n",
    "print(a.ottieni())"
   ]
  },
  {
   "cell_type": "markdown",
   "id": "82d2b3e4",
   "metadata": {},
   "source": [
    "Per ottenere informazioni riguardo le caratteristiche di una Classe:"
   ]
  },
  {
   "cell_type": "code",
   "execution_count": null,
   "id": "b2191b91",
   "metadata": {},
   "outputs": [],
   "source": [
    "help(Sequenza)"
   ]
  },
  {
   "cell_type": "markdown",
   "id": "80c0b467",
   "metadata": {},
   "source": [
    "Per eliminare uno o più attributi  di un'istanza:"
   ]
  },
  {
   "cell_type": "code",
   "execution_count": null,
   "id": "0beca481",
   "metadata": {},
   "outputs": [],
   "source": [
    "del a.nota1    # rimuove solo dall'istanza non dalla Classe...\n",
    "\n",
    "print(a.nota1) # dà errore..."
   ]
  },
  {
   "cell_type": "markdown",
   "id": "b627a0f0",
   "metadata": {},
   "source": [
    "## Variabili di classe<a id='vars'></a> \n",
    "\n",
    "Le proprietà di un'istanza si chiamano variabili d'istanza in quanto ne definiscono le caratteristiche che la differenziano dalle altre.\n",
    "\n",
    "Si riconoscono per la presenza di 'self'.\n",
    "\n",
    "Ci sono però casi in cui abbiamo la necessità di definire la stessa proprietà per tutte le istanze attrverso un unico comando.\n",
    "\n",
    "Ad esempio se specifichiamo le altezze di più sequenze in intervalli possiamo definire per tutte la stessa nota perno con un solo comando utilizzando una variabile di classe che è condivisa da tutte le istanze. "
   ]
  },
  {
   "cell_type": "code",
   "execution_count": null,
   "id": "7f8b647d",
   "metadata": {},
   "outputs": [],
   "source": [
    "class Sequenza:                                  \n",
    "    '''Rappresenta le altezze di una sequenza''' \n",
    "    \n",
    "    nota_perno = 60                                         # Variabile di classe\n",
    "                                               \n",
    "    def __init__(self, nota1=0, nota2=4, nota3=7, trasp=0): # Attributi\n",
    "        self.nota1 = nota1                                  # Proprietà (Variabili d'istanza)\n",
    "        self.nota2 = nota2\n",
    "        self.nota3 = nota3\n",
    "        self.trasp = trasp\n",
    "        \n",
    "        # self.nota_perno N.B. all'interno della classe possiamo richiamare \n",
    "        # il valore anche come variabile d'istanza..\n",
    "        \n",
    "    def ottieni(self):                          \n",
    "        return (Sequenza.nota_perno + self.nota1, \n",
    "                Sequenza.nota_perno + self.nota2, \n",
    "                Sequenza.nota_perno + self.nota3)     \n",
    "        \n",
    "    def trasponi(self):                        \n",
    "        self.nota1 = Sequenza.nota_perno + self.nota1 + self.trasp  # Triade.nota_perno --> accesso come classe\n",
    "        self.nota2 = self.nota_perno + self.nota2 + self.trasp      # self.nota_perno   --> accesso come istanza\n",
    "        self.nota3  = Sequenza.nota_perno + self.nota3 + self.trasp "
   ]
  },
  {
   "cell_type": "code",
   "execution_count": null,
   "id": "f1649da3",
   "metadata": {},
   "outputs": [],
   "source": [
    "I  = Sequenza(0, 4, 7)             \n",
    "IV = Sequenza(0, 5, 9)  \n",
    "V  = Sequenza(-1,2, 7)      \n",
    "\n",
    "print(I.ottieni())\n",
    "print(IV.ottieni())\n",
    "print(V.ottieni())\n",
    "\n",
    "Sequenza.nota_perno = 80   # Modifica la variabile di classe per tutte le istanze\n",
    "print('--------')\n",
    "\n",
    "print(I.ottieni())\n",
    "print(IV.ottieni())\n",
    "print(V.ottieni())"
   ]
  },
  {
   "cell_type": "markdown",
   "id": "17522237",
   "metadata": {},
   "source": [
    "Da considerare che all'interno di una classe python prima cerca tra le variabili d'istanza e poi tra quelle di classe.\n",
    "\n",
    "Per ottenere informazioni sullo stato delle variabili:"
   ]
  },
  {
   "cell_type": "code",
   "execution_count": null,
   "id": "8f187fb7",
   "metadata": {},
   "outputs": [],
   "source": [
    "print(Sequenza.__dict__)  # Classe\n",
    "print(I.__dict__)         # Istanza\n",
    "\n",
    "IV.nota1 = -3             # modifica...\n",
    "\n",
    "print(IV.__dict__)      \n",
    "print(V.__dict__)       "
   ]
  },
  {
   "cell_type": "markdown",
   "id": "52526cf1",
   "metadata": {},
   "source": [
    "Schema riassuntivo\n",
    "\n",
    "* le Classi sono come stampini per la creazione di oggetti e corrispondono a cose o concetti del mondo reale.   \n",
    "  In musica ad esempio potremmo definire la classe 'Scala'.\n",
    "\n",
    "\n",
    "* le istanze sono oggetti costruiti a partire dallo stampino ognuna delle quali ha proprie caratteristiche. \n",
    "  In musica ad esempio potremmo costruire 'DO_maggiore', 'RE_minore', etc.\n",
    "\n",
    "* i metodi sono azioni che possiamo richiedere di compiere invocandoli sulle singole istanze. In musica potremmo chiedere a un'istanza di Scala di restituirci solo alcuni gradi.\n",
    "\n",
    "\n",
    "* le variabili sono gli attributi (o proprietà) che caratterizzano le singole istanze (variabili d'istanza) oppure che sono comuni a tutte le istanze (variabili di classe). In musica ad esempio gli intervalli che caratterizzano la scala specifica (maggiore, minore,etc.)."
   ]
  },
  {
   "cell_type": "code",
   "execution_count": null,
   "id": "51a061aa",
   "metadata": {},
   "outputs": [],
   "source": [
    "class Class_name:                        # Nome della Classe\n",
    "    \n",
    "    'Stringa di documentazione'\n",
    "    \n",
    "    class_data1 = val                    # Variabili di Classe\n",
    "    class_data2 = val                    # (Class Static Data Definitions)\n",
    "    \n",
    "    def __init__(self, arg1, arg2, ...): # Costruttore(attributi)\n",
    "                                         # (Class Instance Inizializer) \n",
    "            self.arg1   = val            # Proprietà\n",
    "            self.arg2   = val            # (Instance Data Definitions) \n",
    "            self.arg... = val             \n",
    "            \n",
    "    def method(self, arg1, arg2, ...)    # Metodi di istanza\n",
    "         return self.arg1 + self.arg2\n",
    "    \n",
    "    def method(self, arg1, arg2, ...)    \n",
    "         return self.arg1 + self.arg2"
   ]
  },
  {
   "cell_type": "markdown",
   "id": "a9309ccb",
   "metadata": {},
   "source": [
    "## Ereditarietà<a id='eredita'></a> \n",
    "\n",
    "Caratterizza la programmazione orientata agli oggetti e consiste nel poter definire una nuova classe come versione modificata di una classe già esistente. \n",
    "\n",
    "Come esempio decidiamo di voler definire una sequenza di altezze generica attraverso due modalità:\n",
    "\n",
    "* scrivedo gli intervalli come attributo della classe sotto forma di lista.\n",
    "* inserendo ogni singolo intervallo digitandolo sulla tastiera del computer. \n",
    "\n",
    "In questa ultima modalità vogliamo poter effettuare anche le seguenti operazioni:\n",
    "\n",
    "* cancellare l'ultima immissione.\n",
    "* pulire il contenuto della lista.\n",
    "* ottenere una lista di midinote in output calcolata su una nota perno definita come variabile di classe."
   ]
  },
  {
   "cell_type": "code",
   "execution_count": null,
   "id": "70b9bec2",
   "metadata": {},
   "outputs": [],
   "source": [
    "class Sequenza:\n",
    "    '''\n",
    "       Crea una sequenza di altezze \n",
    "       memorizzate in una lista\n",
    "    '''\n",
    "    \n",
    "    perno = 60                        # Variabile di Classe\n",
    "    \n",
    "    def __init__(self, altezze=None): # Attributi\n",
    "        self.altezze = altezze        # Proprietà\n",
    "        \n",
    "        if self.altezze is None:      # se non specifichiamo la lista di intervalli\n",
    "            self.altezze = []         # ne crea una vuota\n",
    "        else: self.altezze = altezze\n",
    "        print(self.altezze)\n",
    "    \n",
    "    def inserisci(self):             # permette di inserire le note\n",
    "        print(\"scrivi nota\") \n",
    "        nota = input()               # input da tastiera (stringa)\n",
    "        nota = int(nota)             # casting in int in quanto l'input da tastiera è una stringa\n",
    "        self.altezze.append(nota)    # aggiunge alla lista\n",
    "        print(self.altezze)\n",
    " \n",
    "    def cancella(self):              # cancella l'ultimo valore\n",
    "        self.altezze.pop()\n",
    "        print(self.altezze)\n",
    "        \n",
    "    def pulisci(self):               # cancella tutta la lista\n",
    "        self.altezze = []   \n",
    "        print(self.altezze)\n",
    "        \n",
    "    def interv(self):                # genera l'output in intervalli\n",
    "        return self.altezze \n",
    "            \n",
    "    def note(self):                  # genera l'output in valori midi\n",
    "        self.seq = []\n",
    "        for i in self.altezze:       # itera la lista e somma la nota perno a tutti gli intervalli\n",
    "            self.seq.append(i + Sequenza.perno) \n",
    "        return self.seq                "
   ]
  },
  {
   "cell_type": "markdown",
   "id": "15c4b28b",
   "metadata": {},
   "source": [
    "Se specifichiamo la lista come attributo:"
   ]
  },
  {
   "cell_type": "code",
   "execution_count": null,
   "id": "218a88da",
   "metadata": {},
   "outputs": [],
   "source": [
    "seq = Sequenza([0,4,12])  "
   ]
  },
  {
   "cell_type": "markdown",
   "id": "a63c1cfe",
   "metadata": {},
   "source": [
    "Se vogliamo inserirle una alla volta."
   ]
  },
  {
   "cell_type": "code",
   "execution_count": null,
   "id": "c2c72cbc",
   "metadata": {},
   "outputs": [],
   "source": [
    "seq = Sequenza()  "
   ]
  },
  {
   "cell_type": "markdown",
   "id": "cddab121",
   "metadata": {},
   "source": [
    "Inserire l'input in alto..."
   ]
  },
  {
   "cell_type": "code",
   "execution_count": null,
   "id": "c8e43d8e",
   "metadata": {},
   "outputs": [],
   "source": [
    "seq.inserisci() # inserisce"
   ]
  },
  {
   "cell_type": "code",
   "execution_count": null,
   "id": "b5996d50",
   "metadata": {},
   "outputs": [],
   "source": [
    "seq.cancella()  # cancella l'ultima nota"
   ]
  },
  {
   "cell_type": "code",
   "execution_count": null,
   "id": "1f57964f",
   "metadata": {},
   "outputs": [],
   "source": [
    "seq.pulisci()   # cancella tutta la lista"
   ]
  },
  {
   "cell_type": "code",
   "execution_count": null,
   "id": "aec4417f",
   "metadata": {},
   "outputs": [],
   "source": [
    "seq.interv()    # lista in intervalli"
   ]
  },
  {
   "cell_type": "code",
   "execution_count": null,
   "id": "7cda7de7",
   "metadata": {},
   "outputs": [],
   "source": [
    "seq.note()      # lista in midinote"
   ]
  },
  {
   "cell_type": "markdown",
   "id": "8de7eb40",
   "metadata": {},
   "source": [
    "Supponiamo ora di voler definire due nuove classi:\n",
    "\n",
    "* Scala\n",
    "* Serie\n",
    "\n",
    "Entrmbe sono sequenze di altezze ma ognuna con caratteristiche leggermente diverse.\n",
    "\n",
    "* una scala ha altezze ordinate in modo crescente e può non contenere tutti i numeri compresi tra 0 e 11. \n",
    "* una serie dodecafonica ha le altezze non ordinate in modo crescente e deve contenere tutti i numeri compresi tra 0 a 11.\n",
    "\n",
    "Aggiungiamo anche altre funzionalità specifiche.\n",
    "\n",
    "* per la classe Scala la possibilità di ordinare le altezze in modo crescente, decrescente o randomico.\n",
    "* per la classe Serie le principali operazioni legate alla tecnica dodecafonica: retrogrado, inversione e retrogrado dell'inversione.\n",
    "\n",
    "In entrambe i casi dobbiamo verificare che non ci siano duplicati nella lista di intervalli.\n",
    "\n",
    "Per non riscrivere tutto il codice precedente possiamo creare una classe figlia (child - sottoclasse) che eredita tutti i metodi e gli attributi dalla classe madre (parent - superclasse).\n",
    "\n",
    "Specifichiamo come attributo del nome la classe dalla quale vogliamo ereditare uno o più attributi o metodi."
   ]
  },
  {
   "cell_type": "code",
   "execution_count": null,
   "id": "ea4d88a2",
   "metadata": {},
   "outputs": [],
   "source": [
    "import random           # modulo per shuffle\n",
    "\n",
    "class Scala(Sequenza):  # Attributo --> nome della superclasse\n",
    "    \n",
    "    '''genera una scala musicale memorizzata in una lista e la:\n",
    "       <    = riordina in modo crescente \n",
    "       >    = decrescente \n",
    "       r    = randomico\n",
    "       None = sequenza originale\n",
    "    '''    \n",
    "    \n",
    "    def __init__(self, altezze=None, ordine='<'): # Costruttore Classe Figlia con proprietà\n",
    "        super().__init__(altezze)                 # Quali proprietà sono ereditate dalla Classe Madre (SuperClass) \n",
    "        \n",
    "        self.ordine = ordine                      # Nuova proprietà della classe figlia\n",
    "        \n",
    "    def no_dup(self):                             # verifica la presenza di duplicati (non produttiva)\n",
    "        verifica = []\n",
    "        for i in self.altezze:                    # verifica la presenza\n",
    "            if i not in verifica:\n",
    "                verifica.append(i)\n",
    "            else: print(str(i) + ' eliminato dalla scala')\n",
    "        self.altezze.clear()             # pulisce la lista originale\n",
    "        self.altezze = verifica          # sostituisce la lista con i duplicati con quella senza\n",
    "        print(self.altezze)\n",
    "        \n",
    "    def ordina(self):                    # Nuovo metodo per ordinare che si aggiunge a quelli della classe madre\n",
    "        if self.ordine == '<':           \n",
    "            self.altezze.sort()          # dalla proprietà ereditata...\n",
    "        elif self.ordine == '>':\n",
    "             self.altezze.sort(reverse=True)\n",
    "        elif self.ordine == 'r':\n",
    "            random.shuffle(self.altezze)\n",
    "        else: self.altezze = self.altezze\n",
    "        return self.altezze"
   ]
  },
  {
   "cell_type": "code",
   "execution_count": null,
   "id": "5674f529",
   "metadata": {},
   "outputs": [],
   "source": [
    "seq = Scala([0,2,4,5,5,7,9,11], 'r') # c'è un duplicato..."
   ]
  },
  {
   "cell_type": "code",
   "execution_count": null,
   "id": "d43144ca",
   "metadata": {},
   "outputs": [],
   "source": [
    "seq.no_dup()"
   ]
  },
  {
   "cell_type": "code",
   "execution_count": null,
   "id": "6932daca",
   "metadata": {},
   "outputs": [],
   "source": [
    "a = seq.ordina()\n",
    "print(a)"
   ]
  },
  {
   "cell_type": "code",
   "execution_count": null,
   "id": "5ba9cf91",
   "metadata": {},
   "outputs": [],
   "source": [
    "a = seq.interv() # metodi ereditati...\n",
    "b = seq.note()  \n",
    "print(a)\n",
    "print(b)"
   ]
  },
  {
   "cell_type": "code",
   "execution_count": null,
   "id": "369cf09e",
   "metadata": {},
   "outputs": [],
   "source": [
    "seq = Scala() "
   ]
  },
  {
   "cell_type": "code",
   "execution_count": null,
   "id": "d25cab48",
   "metadata": {},
   "outputs": [],
   "source": [
    "seq.inserisci()"
   ]
  },
  {
   "cell_type": "code",
   "execution_count": null,
   "id": "874ad252",
   "metadata": {},
   "outputs": [],
   "source": [
    "seq.no_dup()"
   ]
  },
  {
   "cell_type": "markdown",
   "id": "0bdf620d",
   "metadata": {},
   "source": [
    "Possiamo anche specificare attributi dei singoli metodi.\n",
    "\n",
    "Modifichiamo la definizione della classe spostando la scelta delle variazioni come attributo del metodo."
   ]
  },
  {
   "cell_type": "code",
   "execution_count": null,
   "id": "d57ead63",
   "metadata": {},
   "outputs": [],
   "source": [
    "import random           # modulo per shuffle\n",
    "\n",
    "class Scala(Sequenza):  # Attributo --> nome della superclasse\n",
    "    \n",
    "    '''genera una scala musicale memorizzata in una lista e la:\n",
    "       <    = riordina in modo crescente \n",
    "       >    = decrescente \n",
    "       r    = randomico\n",
    "       None = sequenza originale\n",
    "    '''    \n",
    "    \n",
    "    def __init__(self, altezze=None, ordine='<'): # Costruttore Classe Figlia con proprietà\n",
    "        super().__init__(altezze)                 # Quali proprietà sono ereditate dalla Classe Madre (SuperClass) \n",
    "        self.ordine = ordine                      # Nuova proprietà della classe figlia\n",
    "        \n",
    "    def no_dup(self):                             # verifica la presenza di duplicati\n",
    "        verifica = []\n",
    "        for i in self.altezze:                    # verifica la presenza\n",
    "            if i not in verifica:\n",
    "                verifica.append(i)\n",
    "            else: print(str(i) + ' eliminato dalla scala')\n",
    "        self.altezze.clear()             # pulisce la lista originale\n",
    "        self.altezze = verifica          # sostituisce la lista con i duplicati con quella senza\n",
    "        print(self.altezze)\n",
    "                \n",
    "    def ordina(self, ordine='<'):            # Aggiunto attributo al metodo\n",
    "        \n",
    "        self.ordine = ordine                 # proprietà del metodo\n",
    "        \n",
    "        if self.ordine == '<':           \n",
    "             self.altezze.sort()\n",
    "        elif self.ordine == '>':\n",
    "             self.altezze.sort(reverse=True)\n",
    "        elif self.ordine == 'r':\n",
    "            random.shuffle(self.altezze)\n",
    "        else: self.altezze = self.altezze"
   ]
  },
  {
   "cell_type": "code",
   "execution_count": null,
   "id": "9d02401b",
   "metadata": {},
   "outputs": [],
   "source": [
    "seq = Scala([0,2,4,6])"
   ]
  },
  {
   "cell_type": "code",
   "execution_count": null,
   "id": "ade4d588",
   "metadata": {},
   "outputs": [],
   "source": [
    "seq.ordina('r')\n",
    "\n",
    "print(seq.interv())\n",
    "print(seq.note())"
   ]
  },
  {
   "cell_type": "markdown",
   "id": "e1962058",
   "metadata": {},
   "source": [
    "Per come abbiamo programmato la classe la scala originale è stata sostituita da quella riordinata e se vogliamo ottenerla nuovamente in output dobbiamo passarla nuovamente come attributo."
   ]
  },
  {
   "cell_type": "code",
   "execution_count": null,
   "id": "37996753",
   "metadata": {},
   "outputs": [],
   "source": [
    "seq.altezze = [0,2,4,6]\n",
    "\n",
    "print(seq.interv())\n",
    "print(seq.note())"
   ]
  },
  {
   "cell_type": "markdown",
   "id": "d11cc3e1",
   "metadata": {},
   "source": [
    "Questo ci fa comprendere come sia importante nella prototipazione del codice organizzare attributi, proprietà e metodi a seconda delle esigenze musicali.\n",
    "\n",
    "Definiamo ora la classe Serie che eredita tutte le proprietà dalla classe Scala (e di conseguenza quelle di Sequenza).\n",
    "\n",
    "Aggiungiamo una variabile d'istanza dove viene memorizzata la serie originale e un metodo (recto) che ci permette di ripristinare lo stato iniziale da eventuali sovrascritture interne."
   ]
  },
  {
   "cell_type": "code",
   "execution_count": null,
   "id": "eea85be0",
   "metadata": {},
   "outputs": [],
   "source": [
    "class Serie(Scala):  # Attributo --> nome della superclasse\n",
    "    \n",
    "    '''crea una serie dodecafonica in una lista \n",
    "       ed effettua le seguenti operazioni:\n",
    "       \n",
    "       ret     = calcola il retrogrado\n",
    "       inv     = calcola l'inversione\n",
    "       rinv    = calcola il retrogrado dell'inversione\n",
    "       None    = serie originale\n",
    "    '''    \n",
    "    \n",
    "    def __init__(self, altezze=None, ordine=None): \n",
    "        super().__init__(altezze, ordine)            \n",
    "        \n",
    "        self.originale = altezze           # memorizza la serie originale\n",
    "        \n",
    "    def recto(self):\n",
    "        self.altezze = self.originale\n",
    " \n",
    "    def verso(self):                    \n",
    "        self.altezze = self.originale      # ripristina la serie originale\n",
    "        self.altezze = self.altezze[::-1]  # calcola il retrogrado\n",
    "        \n",
    "    def inv(self):\n",
    "        self.altezze = self.originale      # ripristina la serie originale\n",
    "        self.inver = []\n",
    "        for i in self.altezze:                    \n",
    "            u = i * -1\n",
    "            self.inver.append(u)\n",
    "        self.altezze = self.inver\n",
    "        \n",
    "    def rinv(self):\n",
    "        self.altezze = self.originale      # ripristina la serie originale\n",
    "        self.rinver = []\n",
    "        for i in self.altezze:                    \n",
    "            u = i * -1\n",
    "            self.rinver.append(u)\n",
    "            self.altezze = self.rinver[::-1]"
   ]
  },
  {
   "cell_type": "code",
   "execution_count": null,
   "id": "f61118b6",
   "metadata": {},
   "outputs": [],
   "source": [
    "seq = Serie([0,3,5,4,1])"
   ]
  },
  {
   "cell_type": "code",
   "execution_count": null,
   "id": "69116cac",
   "metadata": {},
   "outputs": [],
   "source": [
    "seq.recto()    # originale\n",
    "\n",
    "print(seq.interv())\n",
    "print(seq.note())"
   ]
  },
  {
   "cell_type": "code",
   "execution_count": null,
   "id": "aa3ecf71",
   "metadata": {},
   "outputs": [],
   "source": [
    "seq.verso()     # retrogrado\n",
    "\n",
    "print(seq.interv())\n",
    "print(seq.note())"
   ]
  },
  {
   "cell_type": "code",
   "execution_count": null,
   "id": "d5cd68d9",
   "metadata": {},
   "outputs": [],
   "source": [
    "seq.inv()     # inversione\n",
    "\n",
    "print(seq.interv())\n",
    "print(seq.note())"
   ]
  },
  {
   "cell_type": "code",
   "execution_count": null,
   "id": "2a1ed3a2",
   "metadata": {},
   "outputs": [],
   "source": [
    "seq.rinv()     # retrogrado dell'inversione\n",
    "\n",
    "print(seq.interv())\n",
    "print(seq.note())"
   ]
  },
  {
   "cell_type": "markdown",
   "id": "9576e862",
   "metadata": {},
   "source": [
    "## Decoratori<a id='decoratori'></a>\n",
    "\n",
    "In Python un decoratore è una funzione che:\n",
    "\n",
    "* prende come argomento un'altra funzione, \n",
    "* aggiunge delle funzionalità o operazioni.\n",
    "* restituisce una nuova funzione senza alterare il codice di quella passata come argomento.\n",
    "\n",
    "Sono uno strumento molto utile nella programmazione orientata agli oggetti.\n",
    "\n",
    "Python ci fornisce alcuni decoratori built-in che ci possono tornare utili."
   ]
  },
  {
   "cell_type": "markdown",
   "id": "0aacc5b5",
   "metadata": {},
   "source": [
    "@property <a id='property'></a> \n",
    "\n",
    "Come esempio scriviamo una classe che accetta valori di frequenza in Hertz e attraverso un metodo li converte in midinote."
   ]
  },
  {
   "cell_type": "code",
   "execution_count": null,
   "id": "b66a4e1f",
   "metadata": {},
   "outputs": [],
   "source": [
    "from math import log2    # Modulo per calcolare log2\n",
    "\n",
    "class Ftom:\n",
    "    def __init__(self, hertz=440):\n",
    "        self.hertz = hertz\n",
    "    \n",
    "    def to_midi(self):\n",
    "        return 12*log2(self.hertz/440) + 69   # Formula per la convertire da hz a midi\n",
    "\n",
    "#-----------------------\n",
    "\n",
    "freq = Ftom()         # Crea un'istanza\n",
    "freq.hertz = 880      # Setta un valore (setter)\n",
    "print(freq.hertz)     # Richiama il valore memorizzato(getter)\n",
    "\n",
    "print(freq.to_midi()) # Accede al metodo che converte il valore"
   ]
  },
  {
   "cell_type": "markdown",
   "id": "c8311578",
   "metadata": {},
   "source": [
    "Nella definizione di una classe per ogni attributo abbiamo generalmente bisogno di almeno due operazioni:\n",
    "\n",
    "* settare uno o più valori accedendo agli attributi (setter).\n",
    "* ottenere i valori memorizzati in una o più proprietà (getter).\n",
    "\n",
    "Supponiamo ora di voler estendere le caratteristiche di questa classe limitando i valori midi tra 0 e 127.\n",
    "\n",
    "Implementiamo il codice per ottenere questa restrizione nascondendo l'attributo hertz (rendendolo privato) e definendo due nuovi metodi per manipolarlo."
   ]
  },
  {
   "cell_type": "code",
   "execution_count": null,
   "id": "012026a7",
   "metadata": {},
   "outputs": [],
   "source": [
    "from math import log2    \n",
    "\n",
    "class Ftom:\n",
    "    def __init__(self, hertz=440):\n",
    "        self.set_hertz(hertz)                 # Modificata la proprietà\n",
    "    \n",
    "    def to_midi(self):\n",
    "        return int(12*log2(self.get_hertz()/440) + 69)  # Modificato con metodo\n",
    "    \n",
    "    def get_hertz(self):                     # metodo getter\n",
    "        return self._hertz                   # undescore = variabile privata (non è riscritta dall'attributo hertz)\n",
    "    \n",
    "    def set_hertz(self, value):              # metodo setter\n",
    "        if value < 10 or value > 13000:\n",
    "            raise ValueError(\"Fuori dal range MIDI\")\n",
    "        self._hertz = value\n",
    "        \n",
    "freq = Ftom()            # Crea un'istanza\n",
    "\n",
    "print(freq.get_hertz())  # Richiama il valore memorizzato(getter)\n",
    "\n",
    "print(freq.to_midi())    # Effettua la conversione\n",
    "\n",
    "freq.set_hertz(12040)    # Setta una nuova freqenza se < di 10 o > di 1300 produce un errore\n",
    "\n",
    "print(freq.to_midi())    # Effettua la conversione"
   ]
  },
  {
   "cell_type": "markdown",
   "id": "d6f6412a",
   "metadata": {},
   "source": [
    "Abbiamo dovuto fare numerose modifiche al codice originale e, nel caso di programmi complessi con classi che ereditano proprietà da altre classi il tutto si pù facilmente trasformare in un dedalo sintattico di complessa comprensione.\n",
    "\n",
    "In Python possiamo però implementare il codice attraverso il decoratore @property che ovvia a queste problematiche mantenendo la sintassi originale. "
   ]
  },
  {
   "cell_type": "code",
   "execution_count": null,
   "id": "ee002695",
   "metadata": {},
   "outputs": [],
   "source": [
    "from math import log2    \n",
    "\n",
    "class Ftom:\n",
    "    def __init__(self, hertz=440):\n",
    "        self.hertz = hertz                        # Sintassi originale\n",
    "    \n",
    "    def to_midi(self):\n",
    "        return int(12*log2(self.hertz/440) + 69)  # Sintassi originale\n",
    "    \n",
    "    @property                                # Decoratore getter\n",
    "    def hertz(self):                         # Nome dell'attributo\n",
    "        print('Getter...')\n",
    "        return self._hertz                   # undescore = variabile privata (non è riscritta dall'attributo hertz)\n",
    "    \n",
    "    @hertz.setter                            # Decoratore setter\n",
    "    def hertz(self, value):                  # metodo setter\n",
    "        if value < 10 or value > 13000:\n",
    "            raise ValueError(\"Fuori dal range MIDI\")\n",
    "        print('Setter...')\n",
    "        self._hertz = value\n",
    "        \n",
    "freq = Ftom()            # Crea un'istanza\n",
    "\n",
    "print(freq.hertz)        # Richiama il valore memorizzato(getter)\n",
    "print(freq.to_midi())    # Effettua la conversione\n",
    "\n",
    "freq.hertz = 11245       # Sintassi comune per settare i valori\n",
    "\n",
    "print(freq.hertz) \n",
    "print(freq.to_midi())    # Effettua la conversione"
   ]
  },
  {
   "cell_type": "markdown",
   "id": "e5cf48bd",
   "metadata": {},
   "source": [
    "Le variabili private (che valgono solo all'interno della classe) non esistono in Python. \n",
    "\n",
    "La notazione con l'undescore è solo una convenzione."
   ]
  },
  {
   "cell_type": "markdown",
   "id": "d6d7bab6",
   "metadata": {},
   "source": [
    "## Metodi speciali (dunder methods)<a id='specialmethod'></a> \n",
    "\n",
    "I dunder methods sono un insieme di metodi predefiniti che ci permette di espandere facilmente le potenzialità delle classi.\n",
    "\n",
    "\n",
    "Sono caratterizzati dalla presenza di \\__ (due underscores) sia prima che dopo il nome.\n",
    "\n",
    "\\_\\_init\\_\\_ è uno di questi."
   ]
  },
  {
   "cell_type": "code",
   "execution_count": null,
   "id": "34c52769",
   "metadata": {},
   "outputs": [],
   "source": [
    "seq = [0,4,6,7,8] # lista\n",
    "\n",
    "seq[2]            # richiamiamo l'item"
   ]
  },
  {
   "cell_type": "markdown",
   "id": "1566f165",
   "metadata": {},
   "source": [
    "Attraveso la sintassi precedente in realtà Python richiama implicitamente il metodo \\_\\_getitem\\_\\_ che possiamo anche utilizzare esplicitamente. "
   ]
  },
  {
   "cell_type": "code",
   "execution_count": null,
   "id": "f682ea1a",
   "metadata": {},
   "outputs": [],
   "source": [
    "seq = [0,4,6,7,8] # lista\n",
    "\n",
    "seq.__getitem__(2)            # richiamiamo l'item"
   ]
  },
  {
   "cell_type": "markdown",
   "id": "3ad8b57c",
   "metadata": {},
   "source": [
    "Se richiamiamo l'help del nostro oggetto otteniamo tutti i dunder methods che possiamo invocare su di esso sia implicitamente che esplicitamente."
   ]
  },
  {
   "cell_type": "code",
   "execution_count": null,
   "id": "597529f5",
   "metadata": {},
   "outputs": [],
   "source": [
    "help(seq)"
   ]
  },
  {
   "cell_type": "markdown",
   "id": "92ae2cdc",
   "metadata": {},
   "source": [
    "Se li definiamo all'interno di una classe possiamo invocarli direttamente sulle istanze. \n",
    "\n",
    "\\_\\_iter\\_\\_\n",
    "\\_\\_next\\_\\_"
   ]
  },
  {
   "cell_type": "code",
   "execution_count": null,
   "id": "91c27fa1",
   "metadata": {},
   "outputs": [],
   "source": [
    "class Accordo:\n",
    "    '''\n",
    "       Definisce un accordo\n",
    "    '''\n",
    "    def __init__(self, altezze=None, mul=1):\n",
    "        self.altezze = altezze\n",
    "        self.mul     = mul\n",
    "        \n",
    "    def __add__(self, other):            \n",
    "        return self.altezze + other.altezze\n",
    "    \n",
    "    def __mul__(self, other):\n",
    "        return self.altezze * other.mul\n",
    "    \n",
    "    def __len__(self):\n",
    "        return len(self.altezze)\n",
    "    \n",
    "a1 = Accordo([60,64,67,89],1)\n",
    "a2 = Accordo([70,75,87],3)\n",
    "\n",
    "print(a1 + a2)                           # Concatena le due liste...\n",
    "print(a1 * a2)                           # Espande le due liste...\n",
    "print(len(a1))                           # Restituisce la capacità della lista"
   ]
  },
  {
   "cell_type": "markdown",
   "id": "2569666f",
   "metadata": {},
   "source": [
    "# Esportare/importare file di testo<a id='files'></a> \n",
    "\n",
    "Possiamo esportare il contenuto di uno script come file di testo in due modi specificandone l'estensione (.py, .ly, .scd, .txt, etc.).\n",
    "\n",
    "Dalla cella di un Notebook:"
   ]
  },
  {
   "cell_type": "code",
   "execution_count": null,
   "id": "4a6717b5",
   "metadata": {},
   "outputs": [],
   "source": [
    "%%writefile esempi/02_Salva_1.py \n",
    "\n",
    "c = 60\n",
    "print(c)"
   ]
  },
  {
   "cell_type": "markdown",
   "id": "c35ed368",
   "metadata": {},
   "source": [
    "Dal codice:"
   ]
  },
  {
   "cell_type": "code",
   "execution_count": null,
   "id": "709d8798",
   "metadata": {},
   "outputs": [],
   "source": [
    "f = open(\"esempi/02_Salva_2.ly\", \"w\") # r = read - apre il file, dà errore se non esiste.\n",
    "                                      # a = append - apre il file per aggiungere alla fine, \n",
    "                                      #              crea il file se non esiste.\n",
    "                                      # w = write - apre il file per scrivere, \n",
    "                                      #             crea il file se non esiste.\n",
    "                                      # x = create - crea il file per scrivere, \n",
    "                                      #              da errore se  esiste\n",
    "\n",
    "out = \"\\\\relative c\\'{ a b c d }\" # Stringa\n",
    "f.write(out)                      # Scrive il contenuto nel file  \n",
    "f.close()                         # Chiude il file in Python"
   ]
  },
  {
   "cell_type": "markdown",
   "id": "caa4c29d",
   "metadata": {},
   "source": [
    "Leggere un file di testo esterno:"
   ]
  },
  {
   "cell_type": "code",
   "execution_count": null,
   "id": "fd4d7e69",
   "metadata": {},
   "outputs": [],
   "source": [
    "f = open(\"esempi/03_Salva_2.ly\", \"r\") # read \n",
    "x = f.read()\n",
    "\n",
    "print(x)"
   ]
  },
  {
   "cell_type": "markdown",
   "id": "e78db68d",
   "metadata": {},
   "source": [
    "# Ambienti virtuali<a id='virtamb'></a> \n",
    "\n",
    "Un ambiente virtuale è uno strumento che aiuta a mantenere separate le dipendenze richieste da diversi progetti.\n",
    "\n",
    "Un ambiente virtuale è una cartella che contiene una copia privata di Python e di tutti i pacchetti installati.\n",
    "\n",
    "Se ad esempio per un progetto stiamo lavorando con una specifica versione di python che accetta specifiche versioni di librerie possiamo creare un ambiente virtuale all'interno del quale installare python, le librerie necessarie e tutti i files che saranno utilizzati nel progetto (audio, video, immagini, etc.).\n",
    "\n",
    "Se poi vogliamo condividere il progetto con altre persone queste dovranno solamente ricreare l'ambiente virtuale nel loro computer senza preoccuparsi delle dipendenze oppure del fatto che sul loro computer c'è installata una versione più recente o più vecchia di python.\n",
    "\n",
    "Un nuovo ambiente virtuale dovrebbe essere usato ogni volta che lavoriamo su di un progetto basato su python. \n",
    "\n",
    "Per creare e gestire gli ambienti virtuali utilizziamo un modulo chiamato venv e dei comandi da terminale.\n",
    "\n",
    "* Creiamo un nuovo ambiente virtuale:"
   ]
  },
  {
   "cell_type": "code",
   "execution_count": null,
   "id": "03f91bfc",
   "metadata": {},
   "outputs": [],
   "source": [
    "python -m venv mioProgetto"
   ]
  },
  {
   "cell_type": "markdown",
   "id": "f831bc27",
   "metadata": {},
   "source": [
    "E' stata creata una **nuova cartella** con all'interno:\n",
    "\n",
    "* una **cartella** chiamata **bin** (Scripts in window) che contiene a sua volta diversi scripts.\n",
    "* una **cartella** vuota chiamata **include**.\n",
    "* una **cartella** chiamata **lib** che contiene le librerie già instalate.\n",
    "* uno **script** di configurazione.\n",
    "\n",
    "Ora dobbiamo **attivare** l'ambiente virtuale.\n",
    "\n",
    "In **Mac** e **Linux**:"
   ]
  },
  {
   "cell_type": "code",
   "execution_count": null,
   "id": "f6c216fa",
   "metadata": {},
   "outputs": [],
   "source": [
    "source ./nome_cartella_ambiente/bin/activate"
   ]
  },
  {
   "cell_type": "markdown",
   "id": "b44e6e40",
   "metadata": {},
   "source": [
    "In **Windows**:"
   ]
  },
  {
   "cell_type": "code",
   "execution_count": null,
   "id": "69d313c8",
   "metadata": {},
   "outputs": [],
   "source": [
    "# su Windows, da PowerShell\n",
    ".\\nome_cartella_ambiente\\Scripts\\Activate.ps1\n",
    "\n",
    "# su Windows, da cmd\n",
    "nome_cartella_ambiente\\Scripts\\activate"
   ]
  },
  {
   "cell_type": "markdown",
   "id": "4d932bbe",
   "metadata": {},
   "source": [
    "Su Windows potrebbe capitare un errore relativo all'esecuzione di Script sul sistema. Ci sono diverse [soluzioni al riguardo](https://stackoverflow.com/questions/18713086/virtualenv-wont-activate-on-windows).\n",
    "\n",
    "Per verificare potete verificare quale versione di python è in uso nell'ambiente virtuale:"
   ]
  },
  {
   "cell_type": "code",
   "execution_count": null,
   "id": "eff5b344",
   "metadata": {},
   "outputs": [],
   "source": [
    "which python"
   ]
  },
  {
   "cell_type": "markdown",
   "id": "af9515dd",
   "metadata": {},
   "source": [
    "Per verificare quali pacchetti sono installati:"
   ]
  },
  {
   "cell_type": "code",
   "execution_count": null,
   "id": "c68a4d33",
   "metadata": {},
   "outputs": [],
   "source": [
    "pip list"
   ]
  },
  {
   "cell_type": "markdown",
   "id": "0e7de08a",
   "metadata": {},
   "source": [
    "Per installare le librerie che vogliamo utilizzare nel nostro ambiente virtuale."
   ]
  },
  {
   "cell_type": "code",
   "execution_count": null,
   "id": "d1dc883f",
   "metadata": {},
   "outputs": [],
   "source": [
    "pip install numpy"
   ]
  },
  {
   "cell_type": "markdown",
   "id": "61793f44",
   "metadata": {},
   "source": [
    "Per verificare quali pacchetti abbiamo installato."
   ]
  },
  {
   "cell_type": "code",
   "execution_count": null,
   "id": "1fdc5333",
   "metadata": {},
   "outputs": [],
   "source": [
    "pip freeze"
   ]
  },
  {
   "cell_type": "markdown",
   "id": "6ef5a6b2",
   "metadata": {},
   "source": [
    "Per disinstallare un pacchetto."
   ]
  },
  {
   "cell_type": "code",
   "execution_count": null,
   "id": "caa718c1",
   "metadata": {},
   "outputs": [],
   "source": [
    "pip uninstall numpy"
   ]
  },
  {
   "cell_type": "markdown",
   "id": "805a8690",
   "metadata": {},
   "source": [
    "Possiamo creare automaticamente un file requirements.txt che include tutti i pacchetti installati:"
   ]
  },
  {
   "cell_type": "code",
   "execution_count": null,
   "id": "67448633",
   "metadata": {},
   "outputs": [],
   "source": [
    "pip freeze > requirements.txt"
   ]
  },
  {
   "cell_type": "markdown",
   "id": "a1a33c6c",
   "metadata": {},
   "source": [
    "Per eseguire il progetto su un altro computer digitare il comando seguente per installare tutti i pacchetti necessari al progetto."
   ]
  },
  {
   "cell_type": "code",
   "execution_count": null,
   "id": "09c8e92d",
   "metadata": {},
   "outputs": [],
   "source": [
    "pip install -r requirements.txt"
   ]
  },
  {
   "cell_type": "markdown",
   "id": "e8a3265e",
   "metadata": {},
   "source": [
    "Per disattivare l'ambiente virtuale."
   ]
  },
  {
   "cell_type": "code",
   "execution_count": null,
   "id": "61cbc43e",
   "metadata": {},
   "outputs": [],
   "source": [
    "deactivate"
   ]
  }
 ],
 "metadata": {
  "kernelspec": {
   "display_name": "base",
   "language": "python",
   "name": "python3"
  },
  "language_info": {
   "codemirror_mode": {
    "name": "ipython",
    "version": 3
   },
   "file_extension": ".py",
   "mimetype": "text/x-python",
   "name": "python",
   "nbconvert_exporter": "python",
   "pygments_lexer": "ipython3",
   "version": "3.12.4"
  }
 },
 "nbformat": 4,
 "nbformat_minor": 5
}
